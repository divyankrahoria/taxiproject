{
 "cells": [
  {
   "cell_type": "code",
   "execution_count": 1,
   "id": "3f4b48c8-fa27-4ed7-b118-cba06cc54b1a",
   "metadata": {
    "colab": {
     "base_uri": "https://localhost:8080/"
    },
    "id": "3f4b48c8-fa27-4ed7-b118-cba06cc54b1a",
    "outputId": "5236ce1c-2d7f-46c6-e61d-d1f393f62239"
   },
   "outputs": [],
   "source": [
    "import pandas as pd"
   ]
  },
  {
   "cell_type": "code",
   "execution_count": 2,
   "id": "kjw35H4NdUwj",
   "metadata": {
    "colab": {
     "base_uri": "https://localhost:8080/"
    },
    "id": "kjw35H4NdUwj",
    "outputId": "a4ec2c0e-997a-4532-a492-dae65dc44622"
   },
   "outputs": [
    {
     "name": "stdout",
     "output_type": "stream",
     "text": [
      "       pickup_community_area   fare  trip_start_month  trip_start_hour  \\\n",
      "0                        NaN  12.45                 5               19   \n",
      "1                        NaN   0.00                 3               19   \n",
      "2                       60.0  27.05                10                2   \n",
      "3                       10.0   5.85                10                1   \n",
      "4                       14.0  16.65                 5                7   \n",
      "...                      ...    ...               ...              ...   \n",
      "14997                    8.0   3.25                 5               11   \n",
      "14998                    8.0   3.25                11               16   \n",
      "14999                    8.0   4.25                12               13   \n",
      "15000                   61.0   9.85                 9               15   \n",
      "15001                    8.0   7.45                 7               11   \n",
      "\n",
      "       trip_start_day  trip_start_timestamp  pickup_latitude  \\\n",
      "0                   6            1400269500              NaN   \n",
      "1                   5            1362683700              NaN   \n",
      "2                   3            1380593700        41.836150   \n",
      "3                   2            1382319000        41.985015   \n",
      "4                   5            1369897200        41.968069   \n",
      "...               ...                   ...              ...   \n",
      "14997               5            1431602100        41.904935   \n",
      "14998               4            1385568900        41.904935   \n",
      "14999               3            1449579600        41.904935   \n",
      "15000               6            1410534000        41.809018   \n",
      "15001               4            1374061500        41.895033   \n",
      "\n",
      "       pickup_longitude  dropoff_latitude  dropoff_longitude  trip_miles  \\\n",
      "0                   NaN               NaN                NaN         0.0   \n",
      "1                   NaN               NaN                NaN         0.0   \n",
      "2            -87.648788               NaN                NaN        12.6   \n",
      "3            -87.804532               NaN                NaN         0.0   \n",
      "4            -87.721559               NaN                NaN         0.0   \n",
      "...                 ...               ...                ...         ...   \n",
      "14997        -87.649907         41.904935         -87.649907         0.0   \n",
      "14998        -87.649907         41.904935         -87.649907         0.0   \n",
      "14999        -87.649907         41.904935         -87.649907         0.3   \n",
      "15000        -87.659167         41.829922         -87.672503         3.0   \n",
      "15001        -87.619711               NaN                NaN         0.0   \n",
      "\n",
      "       pickup_census_tract  dropoff_census_tract payment_type  \\\n",
      "0                      NaN                   NaN  Credit Card   \n",
      "1                      NaN                   NaN      Unknown   \n",
      "2                      NaN                   NaN         Cash   \n",
      "3                      NaN                   NaN         Cash   \n",
      "4                      NaN                   NaN         Cash   \n",
      "...                    ...                   ...          ...   \n",
      "14997                  NaN          1.703184e+10         Cash   \n",
      "14998                  NaN          1.703184e+10         Cash   \n",
      "14999                  NaN          1.703184e+10         Cash   \n",
      "15000                  NaN                   NaN         Cash   \n",
      "15001         1.703108e+10                   NaN         Cash   \n",
      "\n",
      "                                        company  trip_seconds  \\\n",
      "0      Chicago Elite Cab Corp. (Chicago Carriag           0.0   \n",
      "1                       Chicago Elite Cab Corp.         300.0   \n",
      "2                     Taxi Affiliation Services        1380.0   \n",
      "3                     Taxi Affiliation Services         180.0   \n",
      "4                     Dispatch Taxi Affiliation        1080.0   \n",
      "...                                         ...           ...   \n",
      "14997                 Taxi Affiliation Services          60.0   \n",
      "14998                 Taxi Affiliation Services           0.0   \n",
      "14999                                       NaN         180.0   \n",
      "15000                 Taxi Affiliation Services         780.0   \n",
      "15001                 Taxi Affiliation Services           0.0   \n",
      "\n",
      "       dropoff_community_area  tips  \n",
      "0                         NaN   0.0  \n",
      "1                         NaN   0.0  \n",
      "2                         NaN   0.0  \n",
      "3                         NaN   0.0  \n",
      "4                         NaN   0.0  \n",
      "...                       ...   ...  \n",
      "14997                     8.0   0.0  \n",
      "14998                     8.0   0.0  \n",
      "14999                     8.0   0.0  \n",
      "15000                    59.0   0.0  \n",
      "15001                     NaN   0.0  \n",
      "\n",
      "[15002 rows x 18 columns]\n"
     ]
    }
   ],
   "source": [
    "input_filepath='TaxiData.csv'\n",
    "dataframe=pd.read_csv(input_filepath)\n",
    "print(dataframe)"
   ]
  },
  {
   "cell_type": "code",
   "execution_count": 3,
   "id": "d642fe2c-65d8-4af7-874c-f9dbee44216c",
   "metadata": {
    "colab": {
     "base_uri": "https://localhost:8080/",
     "height": 186
    },
    "id": "d642fe2c-65d8-4af7-874c-f9dbee44216c",
    "outputId": "838be738-def1-454f-c00e-aea6135faa18"
   },
   "outputs": [
    {
     "data": {
      "text/plain": [
       "<bound method NDFrame.keys of        pickup_community_area   fare  trip_start_month  trip_start_hour  \\\n",
       "0                        NaN  12.45                 5               19   \n",
       "1                        NaN   0.00                 3               19   \n",
       "2                       60.0  27.05                10                2   \n",
       "3                       10.0   5.85                10                1   \n",
       "4                       14.0  16.65                 5                7   \n",
       "...                      ...    ...               ...              ...   \n",
       "14997                    8.0   3.25                 5               11   \n",
       "14998                    8.0   3.25                11               16   \n",
       "14999                    8.0   4.25                12               13   \n",
       "15000                   61.0   9.85                 9               15   \n",
       "15001                    8.0   7.45                 7               11   \n",
       "\n",
       "       trip_start_day  trip_start_timestamp  pickup_latitude  \\\n",
       "0                   6            1400269500              NaN   \n",
       "1                   5            1362683700              NaN   \n",
       "2                   3            1380593700        41.836150   \n",
       "3                   2            1382319000        41.985015   \n",
       "4                   5            1369897200        41.968069   \n",
       "...               ...                   ...              ...   \n",
       "14997               5            1431602100        41.904935   \n",
       "14998               4            1385568900        41.904935   \n",
       "14999               3            1449579600        41.904935   \n",
       "15000               6            1410534000        41.809018   \n",
       "15001               4            1374061500        41.895033   \n",
       "\n",
       "       pickup_longitude  dropoff_latitude  dropoff_longitude  trip_miles  \\\n",
       "0                   NaN               NaN                NaN         0.0   \n",
       "1                   NaN               NaN                NaN         0.0   \n",
       "2            -87.648788               NaN                NaN        12.6   \n",
       "3            -87.804532               NaN                NaN         0.0   \n",
       "4            -87.721559               NaN                NaN         0.0   \n",
       "...                 ...               ...                ...         ...   \n",
       "14997        -87.649907         41.904935         -87.649907         0.0   \n",
       "14998        -87.649907         41.904935         -87.649907         0.0   \n",
       "14999        -87.649907         41.904935         -87.649907         0.3   \n",
       "15000        -87.659167         41.829922         -87.672503         3.0   \n",
       "15001        -87.619711               NaN                NaN         0.0   \n",
       "\n",
       "       pickup_census_tract  dropoff_census_tract payment_type  \\\n",
       "0                      NaN                   NaN  Credit Card   \n",
       "1                      NaN                   NaN      Unknown   \n",
       "2                      NaN                   NaN         Cash   \n",
       "3                      NaN                   NaN         Cash   \n",
       "4                      NaN                   NaN         Cash   \n",
       "...                    ...                   ...          ...   \n",
       "14997                  NaN          1.703184e+10         Cash   \n",
       "14998                  NaN          1.703184e+10         Cash   \n",
       "14999                  NaN          1.703184e+10         Cash   \n",
       "15000                  NaN                   NaN         Cash   \n",
       "15001         1.703108e+10                   NaN         Cash   \n",
       "\n",
       "                                        company  trip_seconds  \\\n",
       "0      Chicago Elite Cab Corp. (Chicago Carriag           0.0   \n",
       "1                       Chicago Elite Cab Corp.         300.0   \n",
       "2                     Taxi Affiliation Services        1380.0   \n",
       "3                     Taxi Affiliation Services         180.0   \n",
       "4                     Dispatch Taxi Affiliation        1080.0   \n",
       "...                                         ...           ...   \n",
       "14997                 Taxi Affiliation Services          60.0   \n",
       "14998                 Taxi Affiliation Services           0.0   \n",
       "14999                                       NaN         180.0   \n",
       "15000                 Taxi Affiliation Services         780.0   \n",
       "15001                 Taxi Affiliation Services           0.0   \n",
       "\n",
       "       dropoff_community_area  tips  \n",
       "0                         NaN   0.0  \n",
       "1                         NaN   0.0  \n",
       "2                         NaN   0.0  \n",
       "3                         NaN   0.0  \n",
       "4                         NaN   0.0  \n",
       "...                       ...   ...  \n",
       "14997                     8.0   0.0  \n",
       "14998                     8.0   0.0  \n",
       "14999                     8.0   0.0  \n",
       "15000                    59.0   0.0  \n",
       "15001                     NaN   0.0  \n",
       "\n",
       "[15002 rows x 18 columns]>"
      ]
     },
     "execution_count": 3,
     "metadata": {},
     "output_type": "execute_result"
    }
   ],
   "source": [
    "dataframe.keys"
   ]
  },
  {
   "cell_type": "code",
   "execution_count": 4,
   "id": "8237c434-d7fc-40a1-8bec-3eedaa02ae8e",
   "metadata": {
    "colab": {
     "base_uri": "https://localhost:8080/",
     "height": 320
    },
    "id": "8237c434-d7fc-40a1-8bec-3eedaa02ae8e",
    "outputId": "2db8f774-0ee2-4221-afc3-8f1c51fbb12c"
   },
   "outputs": [
    {
     "data": {
      "text/html": [
       "<div>\n",
       "<style scoped>\n",
       "    .dataframe tbody tr th:only-of-type {\n",
       "        vertical-align: middle;\n",
       "    }\n",
       "\n",
       "    .dataframe tbody tr th {\n",
       "        vertical-align: top;\n",
       "    }\n",
       "\n",
       "    .dataframe thead th {\n",
       "        text-align: right;\n",
       "    }\n",
       "</style>\n",
       "<table border=\"1\" class=\"dataframe\">\n",
       "  <thead>\n",
       "    <tr style=\"text-align: right;\">\n",
       "      <th></th>\n",
       "      <th>pickup_community_area</th>\n",
       "      <th>fare</th>\n",
       "      <th>trip_start_month</th>\n",
       "      <th>trip_start_hour</th>\n",
       "      <th>trip_start_day</th>\n",
       "      <th>trip_start_timestamp</th>\n",
       "      <th>pickup_latitude</th>\n",
       "      <th>pickup_longitude</th>\n",
       "      <th>dropoff_latitude</th>\n",
       "      <th>dropoff_longitude</th>\n",
       "      <th>trip_miles</th>\n",
       "      <th>pickup_census_tract</th>\n",
       "      <th>dropoff_census_tract</th>\n",
       "      <th>trip_seconds</th>\n",
       "      <th>dropoff_community_area</th>\n",
       "      <th>tips</th>\n",
       "    </tr>\n",
       "  </thead>\n",
       "  <tbody>\n",
       "    <tr>\n",
       "      <th>count</th>\n",
       "      <td>15000.000000</td>\n",
       "      <td>15002.000000</td>\n",
       "      <td>15002.000000</td>\n",
       "      <td>15002.000000</td>\n",
       "      <td>15002.000000</td>\n",
       "      <td>1.500200e+04</td>\n",
       "      <td>15000.000000</td>\n",
       "      <td>15000.000000</td>\n",
       "      <td>14520.000000</td>\n",
       "      <td>14520.000000</td>\n",
       "      <td>15002.000000</td>\n",
       "      <td>1.000000e+00</td>\n",
       "      <td>1.076100e+04</td>\n",
       "      <td>14996.000000</td>\n",
       "      <td>14496.000000</td>\n",
       "      <td>15002.000000</td>\n",
       "    </tr>\n",
       "    <tr>\n",
       "      <th>mean</th>\n",
       "      <td>22.250267</td>\n",
       "      <td>11.768216</td>\n",
       "      <td>6.585655</td>\n",
       "      <td>13.632316</td>\n",
       "      <td>4.186642</td>\n",
       "      <td>1.408495e+09</td>\n",
       "      <td>41.903046</td>\n",
       "      <td>-87.657551</td>\n",
       "      <td>41.899786</td>\n",
       "      <td>-87.648077</td>\n",
       "      <td>2.872820</td>\n",
       "      <td>1.703108e+10</td>\n",
       "      <td>1.703135e+10</td>\n",
       "      <td>777.627501</td>\n",
       "      <td>20.966336</td>\n",
       "      <td>1.076674</td>\n",
       "    </tr>\n",
       "    <tr>\n",
       "      <th>std</th>\n",
       "      <td>19.414828</td>\n",
       "      <td>11.538850</td>\n",
       "      <td>3.390997</td>\n",
       "      <td>6.620927</td>\n",
       "      <td>2.015694</td>\n",
       "      <td>2.916043e+07</td>\n",
       "      <td>0.037751</td>\n",
       "      <td>0.067846</td>\n",
       "      <td>0.349865</td>\n",
       "      <td>0.729626</td>\n",
       "      <td>15.276007</td>\n",
       "      <td>NaN</td>\n",
       "      <td>3.312243e+05</td>\n",
       "      <td>977.538769</td>\n",
       "      <td>17.641307</td>\n",
       "      <td>2.158340</td>\n",
       "    </tr>\n",
       "    <tr>\n",
       "      <th>min</th>\n",
       "      <td>1.000000</td>\n",
       "      <td>0.000000</td>\n",
       "      <td>1.000000</td>\n",
       "      <td>0.000000</td>\n",
       "      <td>1.000000</td>\n",
       "      <td>1.357000e+09</td>\n",
       "      <td>41.694879</td>\n",
       "      <td>-87.913625</td>\n",
       "      <td>0.000000</td>\n",
       "      <td>-87.913625</td>\n",
       "      <td>0.000000</td>\n",
       "      <td>1.703108e+10</td>\n",
       "      <td>1.703101e+10</td>\n",
       "      <td>0.000000</td>\n",
       "      <td>0.000000</td>\n",
       "      <td>0.000000</td>\n",
       "    </tr>\n",
       "    <tr>\n",
       "      <th>25%</th>\n",
       "      <td>8.000000</td>\n",
       "      <td>5.850000</td>\n",
       "      <td>4.000000</td>\n",
       "      <td>9.000000</td>\n",
       "      <td>2.000000</td>\n",
       "      <td>1.384622e+09</td>\n",
       "      <td>41.880994</td>\n",
       "      <td>-87.655998</td>\n",
       "      <td>41.880994</td>\n",
       "      <td>-87.656804</td>\n",
       "      <td>0.000000</td>\n",
       "      <td>1.703108e+10</td>\n",
       "      <td>1.703108e+10</td>\n",
       "      <td>360.000000</td>\n",
       "      <td>8.000000</td>\n",
       "      <td>0.000000</td>\n",
       "    </tr>\n",
       "    <tr>\n",
       "      <th>50%</th>\n",
       "      <td>8.000000</td>\n",
       "      <td>7.850000</td>\n",
       "      <td>7.000000</td>\n",
       "      <td>15.000000</td>\n",
       "      <td>4.000000</td>\n",
       "      <td>1.407260e+09</td>\n",
       "      <td>41.892508</td>\n",
       "      <td>-87.633308</td>\n",
       "      <td>41.893216</td>\n",
       "      <td>-87.634156</td>\n",
       "      <td>1.000000</td>\n",
       "      <td>1.703108e+10</td>\n",
       "      <td>1.703124e+10</td>\n",
       "      <td>540.000000</td>\n",
       "      <td>12.000000</td>\n",
       "      <td>0.000000</td>\n",
       "    </tr>\n",
       "    <tr>\n",
       "      <th>75%</th>\n",
       "      <td>32.000000</td>\n",
       "      <td>12.450000</td>\n",
       "      <td>10.000000</td>\n",
       "      <td>19.000000</td>\n",
       "      <td>6.000000</td>\n",
       "      <td>1.431339e+09</td>\n",
       "      <td>41.921877</td>\n",
       "      <td>-87.626211</td>\n",
       "      <td>41.922686</td>\n",
       "      <td>-87.626215</td>\n",
       "      <td>2.500000</td>\n",
       "      <td>1.703108e+10</td>\n",
       "      <td>1.703183e+10</td>\n",
       "      <td>960.000000</td>\n",
       "      <td>32.000000</td>\n",
       "      <td>2.000000</td>\n",
       "    </tr>\n",
       "    <tr>\n",
       "      <th>max</th>\n",
       "      <td>77.000000</td>\n",
       "      <td>700.070000</td>\n",
       "      <td>12.000000</td>\n",
       "      <td>23.000000</td>\n",
       "      <td>7.000000</td>\n",
       "      <td>1.483116e+09</td>\n",
       "      <td>42.009623</td>\n",
       "      <td>-87.572782</td>\n",
       "      <td>42.021224</td>\n",
       "      <td>0.000000</td>\n",
       "      <td>1710.000000</td>\n",
       "      <td>1.703108e+10</td>\n",
       "      <td>1.703198e+10</td>\n",
       "      <td>72120.000000</td>\n",
       "      <td>77.000000</td>\n",
       "      <td>47.000000</td>\n",
       "    </tr>\n",
       "  </tbody>\n",
       "</table>\n",
       "</div>"
      ],
      "text/plain": [
       "       pickup_community_area          fare  trip_start_month  trip_start_hour  \\\n",
       "count           15000.000000  15002.000000      15002.000000     15002.000000   \n",
       "mean               22.250267     11.768216          6.585655        13.632316   \n",
       "std                19.414828     11.538850          3.390997         6.620927   \n",
       "min                 1.000000      0.000000          1.000000         0.000000   \n",
       "25%                 8.000000      5.850000          4.000000         9.000000   \n",
       "50%                 8.000000      7.850000          7.000000        15.000000   \n",
       "75%                32.000000     12.450000         10.000000        19.000000   \n",
       "max                77.000000    700.070000         12.000000        23.000000   \n",
       "\n",
       "       trip_start_day  trip_start_timestamp  pickup_latitude  \\\n",
       "count    15002.000000          1.500200e+04     15000.000000   \n",
       "mean         4.186642          1.408495e+09        41.903046   \n",
       "std          2.015694          2.916043e+07         0.037751   \n",
       "min          1.000000          1.357000e+09        41.694879   \n",
       "25%          2.000000          1.384622e+09        41.880994   \n",
       "50%          4.000000          1.407260e+09        41.892508   \n",
       "75%          6.000000          1.431339e+09        41.921877   \n",
       "max          7.000000          1.483116e+09        42.009623   \n",
       "\n",
       "       pickup_longitude  dropoff_latitude  dropoff_longitude    trip_miles  \\\n",
       "count      15000.000000      14520.000000       14520.000000  15002.000000   \n",
       "mean         -87.657551         41.899786         -87.648077      2.872820   \n",
       "std            0.067846          0.349865           0.729626     15.276007   \n",
       "min          -87.913625          0.000000         -87.913625      0.000000   \n",
       "25%          -87.655998         41.880994         -87.656804      0.000000   \n",
       "50%          -87.633308         41.893216         -87.634156      1.000000   \n",
       "75%          -87.626211         41.922686         -87.626215      2.500000   \n",
       "max          -87.572782         42.021224           0.000000   1710.000000   \n",
       "\n",
       "       pickup_census_tract  dropoff_census_tract  trip_seconds  \\\n",
       "count         1.000000e+00          1.076100e+04  14996.000000   \n",
       "mean          1.703108e+10          1.703135e+10    777.627501   \n",
       "std                    NaN          3.312243e+05    977.538769   \n",
       "min           1.703108e+10          1.703101e+10      0.000000   \n",
       "25%           1.703108e+10          1.703108e+10    360.000000   \n",
       "50%           1.703108e+10          1.703124e+10    540.000000   \n",
       "75%           1.703108e+10          1.703183e+10    960.000000   \n",
       "max           1.703108e+10          1.703198e+10  72120.000000   \n",
       "\n",
       "       dropoff_community_area          tips  \n",
       "count            14496.000000  15002.000000  \n",
       "mean                20.966336      1.076674  \n",
       "std                 17.641307      2.158340  \n",
       "min                  0.000000      0.000000  \n",
       "25%                  8.000000      0.000000  \n",
       "50%                 12.000000      0.000000  \n",
       "75%                 32.000000      2.000000  \n",
       "max                 77.000000     47.000000  "
      ]
     },
     "execution_count": 4,
     "metadata": {},
     "output_type": "execute_result"
    }
   ],
   "source": [
    "dataframe.describe()"
   ]
  },
  {
   "cell_type": "code",
   "execution_count": 5,
   "id": "f5f83473-4e77-4ee6-a250-ba309dedc3e2",
   "metadata": {
    "colab": {
     "base_uri": "https://localhost:8080/"
    },
    "id": "f5f83473-4e77-4ee6-a250-ba309dedc3e2",
    "outputId": "2c65e1c8-7dac-45a5-8a52-f63181c34b34"
   },
   "outputs": [
    {
     "name": "stdout",
     "output_type": "stream",
     "text": [
      "<class 'pandas.core.frame.DataFrame'>\n",
      "RangeIndex: 15002 entries, 0 to 15001\n",
      "Data columns (total 18 columns):\n",
      " #   Column                  Non-Null Count  Dtype  \n",
      "---  ------                  --------------  -----  \n",
      " 0   pickup_community_area   15000 non-null  float64\n",
      " 1   fare                    15002 non-null  float64\n",
      " 2   trip_start_month        15002 non-null  int64  \n",
      " 3   trip_start_hour         15002 non-null  int64  \n",
      " 4   trip_start_day          15002 non-null  int64  \n",
      " 5   trip_start_timestamp    15002 non-null  int64  \n",
      " 6   pickup_latitude         15000 non-null  float64\n",
      " 7   pickup_longitude        15000 non-null  float64\n",
      " 8   dropoff_latitude        14520 non-null  float64\n",
      " 9   dropoff_longitude       14520 non-null  float64\n",
      " 10  trip_miles              15002 non-null  float64\n",
      " 11  pickup_census_tract     1 non-null      float64\n",
      " 12  dropoff_census_tract    10761 non-null  float64\n",
      " 13  payment_type            15002 non-null  object \n",
      " 14  company                 9862 non-null   object \n",
      " 15  trip_seconds            14996 non-null  float64\n",
      " 16  dropoff_community_area  14496 non-null  float64\n",
      " 17  tips                    15002 non-null  float64\n",
      "dtypes: float64(12), int64(4), object(2)\n",
      "memory usage: 2.1+ MB\n"
     ]
    }
   ],
   "source": [
    "dataframe.info()"
   ]
  },
  {
   "cell_type": "code",
   "execution_count": 6,
   "id": "e1d32079-b7ad-42f2-8dcb-c19c0900ed03",
   "metadata": {
    "colab": {
     "base_uri": "https://localhost:8080/"
    },
    "id": "e1d32079-b7ad-42f2-8dcb-c19c0900ed03",
    "outputId": "05eb7458-cfa8-4b06-b830-a88081323481"
   },
   "outputs": [
    {
     "data": {
      "text/plain": [
       "pickup_community_area         2\n",
       "fare                          0\n",
       "trip_start_month              0\n",
       "trip_start_hour               0\n",
       "trip_start_day                0\n",
       "trip_start_timestamp          0\n",
       "pickup_latitude               2\n",
       "pickup_longitude              2\n",
       "dropoff_latitude            482\n",
       "dropoff_longitude           482\n",
       "trip_miles                    0\n",
       "pickup_census_tract       15001\n",
       "dropoff_census_tract       4241\n",
       "payment_type                  0\n",
       "company                    5140\n",
       "trip_seconds                  6\n",
       "dropoff_community_area      506\n",
       "tips                          0\n",
       "dtype: int64"
      ]
     },
     "execution_count": 6,
     "metadata": {},
     "output_type": "execute_result"
    }
   ],
   "source": [
    "dataframe.isnull().sum()"
   ]
  },
  {
   "cell_type": "code",
   "execution_count": 7,
   "id": "d5f6764a-8dd4-4a2b-95a2-d5f0f4ed8446",
   "metadata": {
    "colab": {
     "base_uri": "https://localhost:8080/"
    },
    "id": "d5f6764a-8dd4-4a2b-95a2-d5f0f4ed8446",
    "outputId": "45a697d9-ff6f-4690-db86-e95e5b2e56d7"
   },
   "outputs": [
    {
     "data": {
      "text/plain": [
       "array(['0118 - 42111 Godfrey S.Awir', '0694 - 59280 Chinesco Trans Inc',\n",
       "       '1085 - 72312 N and W Cab Co', '2092 - 61288 Sbeih company',\n",
       "       '2192 - 73487 Zeymane Corp', '2192 - Zeymane Corp',\n",
       "       '2733 - 74600 Benny Jona', '2809 - 95474 C & D Cab Co Inc.',\n",
       "       '2823 - 73307 Seung Lee', '3011 - 66308 JBL Cab Inc.',\n",
       "       '3094 - 24059 G.L.B. Cab Co', '3152 - 97284 Crystal Abernathy',\n",
       "       '3201 - C&D Cab Co Inc', '3201 - CID Cab Co Inc',\n",
       "       '3253 - 91138 Gaither Cab Co.', '3319 - CD Cab Co',\n",
       "       '3385 - 23210 Eman Cab', '3385 - Eman Cab',\n",
       "       '3623 - 72222 Arrington Enterprises', '3897 - 57856 Ilie Malec',\n",
       "       '3897 - Ilie Malec', '4053 - 40193 Adwar H. Nikola',\n",
       "       '4053 - Adwar H. Nikola', '4197 - 41842 Royal Star',\n",
       "       '4197 - Royal Star', '4615 - 83503 Tyrone Henderson',\n",
       "       '4615 - Tyrone Henderson', '4623 - Jay Kim',\n",
       "       '5006 - 39261 Salifu Bawa', '5006 - Salifu Bawa',\n",
       "       '5074 - 54002 Ahzmi Inc', '5074 - Ahzmi Inc', '5129 - 87128',\n",
       "       '5129 - 98755 Mengisti Taxi', '5129 - Mengisti Taxi',\n",
       "       '5724 - KYVI Cab Inc', '585 - 88805 Valley Cab Co',\n",
       "       '585 - Valley Cab Co', '5864 - 73614 Thomas Owusu',\n",
       "       '5864 - Thomas Owusu', '5874 - 73628 Sergey Cab Corp.',\n",
       "       '5874 - Sergey Cab Corp.', '5997 - 65283 AW Services Inc.',\n",
       "       '5997 - AW Services Inc.', '6057 - 24657 Richard Addo',\n",
       "       '6488 - 83287 Zuha Taxi', '6574 - Babylon Express Inc.',\n",
       "       '6742 - 83735 Tasha ride inc', '6743 - Luhak Corp',\n",
       "       'Blue Ribbon Taxi Association Inc.', 'C & D Cab Co Inc',\n",
       "       'Chicago Elite Cab Corp.',\n",
       "       'Chicago Elite Cab Corp. (Chicago Carriag',\n",
       "       'Chicago Medallion Leasing INC', 'Chicago Medallion Management',\n",
       "       'Choice Taxi Association', 'Dispatch Taxi Affiliation',\n",
       "       'KOAM Taxi Association', 'Northwest Management LLC',\n",
       "       'Taxi Affiliation Services', 'Top Cab Affiliation', nan],\n",
       "      dtype=object)"
      ]
     },
     "execution_count": 7,
     "metadata": {},
     "output_type": "execute_result"
    }
   ],
   "source": [
    "dataframe.company.sort_values().unique()"
   ]
  },
  {
   "cell_type": "code",
   "execution_count": 10,
   "id": "a6169676-b14a-41c6-928b-539cfddda504",
   "metadata": {
    "colab": {
     "base_uri": "https://localhost:8080/"
    },
    "id": "a6169676-b14a-41c6-928b-539cfddda504",
    "outputId": "d3387c59-ff8f-4d96-f195-9a4898548147"
   },
   "outputs": [
    {
     "data": {
      "text/plain": [
       "array(['Chicago Elite Cab Corp. (Chicago Carriag',\n",
       "       'Chicago Elite Cab Corp.', 'Taxi Affiliation Services',\n",
       "       'Dispatch Taxi Affiliation', nan,\n",
       "       'Blue Ribbon Taxi Association Inc.', 'Northwest Management LLC',\n",
       "       'Choice Taxi Association', 'Chicago Medallion Management',\n",
       "       'Top Cab Affiliation', 'KOAM Taxi Association',\n",
       "       '5129 - Mengisti Taxi', '6057 - 24657 Richard Addo',\n",
       "       '3152 - 97284 Crystal Abernathy', '4615 - 83503 Tyrone Henderson',\n",
       "       '3094 - 24059 G.L.B. Cab Co', '4615 - Tyrone Henderson',\n",
       "       '2192 - 73487 Zeymane Corp', '3897 - 57856 Ilie Malec',\n",
       "       '2823 - 73307 Seung Lee', '2733 - 74600 Benny Jona',\n",
       "       '3253 - 91138 Gaither Cab Co.', 'Chicago Medallion Leasing INC',\n",
       "       '5006 - 39261 Salifu Bawa', '4197 - 41842 Royal Star',\n",
       "       '4053 - 40193 Adwar H. Nikola', '5074 - 54002 Ahzmi Inc',\n",
       "       '0118 - 42111 Godfrey S.Awir', '6742 - 83735 Tasha ride inc',\n",
       "       '3011 - 66308 JBL Cab Inc.', '5129 - 98755 Mengisti Taxi',\n",
       "       '4197 - Royal Star', '3201 - C&D Cab Co Inc', '3385 - Eman Cab',\n",
       "       'C & D Cab Co Inc', '6488 - 83287 Zuha Taxi',\n",
       "       '2092 - 61288 Sbeih company', '5129 - 87128',\n",
       "       '1085 - 72312 N and W Cab Co', '3319 - CD Cab Co',\n",
       "       '585 - 88805 Valley Cab Co', '2192 - Zeymane Corp',\n",
       "       '5874 - Sergey Cab Corp.', '6574 - Babylon Express Inc.',\n",
       "       '5997 - 65283 AW Services Inc.', '4053 - Adwar H. Nikola',\n",
       "       '3385 - 23210 Eman Cab', '5874 - 73628 Sergey Cab Corp.',\n",
       "       '3201 - CID Cab Co Inc', '3623 - 72222 Arrington Enterprises',\n",
       "       '4623 - Jay Kim', '0694 - 59280 Chinesco Trans Inc',\n",
       "       '6743 - Luhak Corp', '5864 - 73614 Thomas Owusu',\n",
       "       '5006 - Salifu Bawa', '5724 - KYVI Cab Inc',\n",
       "       '2809 - 95474 C & D Cab Co Inc.', '3897 - Ilie Malec',\n",
       "       '5864 - Thomas Owusu', '585 - Valley Cab Co', '5074 - Ahzmi Inc',\n",
       "       '5997 - AW Services Inc.'], dtype=object)"
      ]
     },
     "execution_count": 10,
     "metadata": {},
     "output_type": "execute_result"
    }
   ],
   "source": [
    "pd.unique(dataframe['company'])"
   ]
  },
  {
   "cell_type": "code",
   "execution_count": 11,
   "id": "b80a3c60",
   "metadata": {
    "colab": {
     "base_uri": "https://localhost:8080/"
    },
    "id": "b80a3c60",
    "outputId": "6a44ba02-6a47-4f44-bef1-2d909f615562"
   },
   "outputs": [
    {
     "data": {
      "text/plain": [
       "array(['Credit Card', 'Unknown', 'Cash', 'Dispute', 'No Charge', 'Prcard',\n",
       "       'Pcard'], dtype=object)"
      ]
     },
     "execution_count": 11,
     "metadata": {},
     "output_type": "execute_result"
    }
   ],
   "source": [
    "pd.unique(dataframe['payment_type'])"
   ]
  },
  {
   "cell_type": "code",
   "execution_count": null,
   "id": "a475db9b",
   "metadata": {
    "id": "a475db9b"
   },
   "outputs": [],
   "source": []
  },
  {
   "cell_type": "code",
   "execution_count": 12,
   "id": "c5ea0d36-d14f-4c3a-8f91-a8edb6e47145",
   "metadata": {
    "id": "c5ea0d36-d14f-4c3a-8f91-a8edb6e47145"
   },
   "outputs": [],
   "source": [
    "from sklearn import preprocessing\n",
    "# label_encoder object knows\n",
    "# how to understand word labels.\n",
    "label_encoder = preprocessing.LabelEncoder()"
   ]
  },
  {
   "cell_type": "code",
   "execution_count": 13,
   "id": "7bade4af-750c-498d-869a-e133a516436d",
   "metadata": {
    "id": "7bade4af-750c-498d-869a-e133a516436d"
   },
   "outputs": [],
   "source": [
    "dataframe['company']= label_encoder.fit_transform(dataframe['company'])"
   ]
  },
  {
   "cell_type": "code",
   "execution_count": 14,
   "id": "d6042890-323d-4807-985e-94c156b5a4e9",
   "metadata": {
    "id": "d6042890-323d-4807-985e-94c156b5a4e9"
   },
   "outputs": [],
   "source": [
    "dataframe['payment_type']= label_encoder.fit_transform(dataframe['payment_type'])"
   ]
  },
  {
   "cell_type": "code",
   "execution_count": 15,
   "id": "ae7069ba-1df2-4819-b769-606f112f7bf4",
   "metadata": {
    "colab": {
     "base_uri": "https://localhost:8080/",
     "height": 383
    },
    "id": "ae7069ba-1df2-4819-b769-606f112f7bf4",
    "outputId": "2d786621-d308-4f6e-cac3-6cd151066354"
   },
   "outputs": [
    {
     "data": {
      "text/html": [
       "<div>\n",
       "<style scoped>\n",
       "    .dataframe tbody tr th:only-of-type {\n",
       "        vertical-align: middle;\n",
       "    }\n",
       "\n",
       "    .dataframe tbody tr th {\n",
       "        vertical-align: top;\n",
       "    }\n",
       "\n",
       "    .dataframe thead th {\n",
       "        text-align: right;\n",
       "    }\n",
       "</style>\n",
       "<table border=\"1\" class=\"dataframe\">\n",
       "  <thead>\n",
       "    <tr style=\"text-align: right;\">\n",
       "      <th></th>\n",
       "      <th>pickup_community_area</th>\n",
       "      <th>fare</th>\n",
       "      <th>trip_start_month</th>\n",
       "      <th>trip_start_hour</th>\n",
       "      <th>trip_start_day</th>\n",
       "      <th>trip_start_timestamp</th>\n",
       "      <th>pickup_latitude</th>\n",
       "      <th>pickup_longitude</th>\n",
       "      <th>dropoff_latitude</th>\n",
       "      <th>dropoff_longitude</th>\n",
       "      <th>trip_miles</th>\n",
       "      <th>pickup_census_tract</th>\n",
       "      <th>dropoff_census_tract</th>\n",
       "      <th>payment_type</th>\n",
       "      <th>company</th>\n",
       "      <th>trip_seconds</th>\n",
       "      <th>dropoff_community_area</th>\n",
       "      <th>tips</th>\n",
       "    </tr>\n",
       "  </thead>\n",
       "  <tbody>\n",
       "    <tr>\n",
       "      <th>0</th>\n",
       "      <td>NaN</td>\n",
       "      <td>12.45</td>\n",
       "      <td>5</td>\n",
       "      <td>19</td>\n",
       "      <td>6</td>\n",
       "      <td>1400269500</td>\n",
       "      <td>NaN</td>\n",
       "      <td>NaN</td>\n",
       "      <td>NaN</td>\n",
       "      <td>NaN</td>\n",
       "      <td>0.00</td>\n",
       "      <td>NaN</td>\n",
       "      <td>NaN</td>\n",
       "      <td>1</td>\n",
       "      <td>52</td>\n",
       "      <td>0.0</td>\n",
       "      <td>NaN</td>\n",
       "      <td>0.0</td>\n",
       "    </tr>\n",
       "    <tr>\n",
       "      <th>1</th>\n",
       "      <td>NaN</td>\n",
       "      <td>0.00</td>\n",
       "      <td>3</td>\n",
       "      <td>19</td>\n",
       "      <td>5</td>\n",
       "      <td>1362683700</td>\n",
       "      <td>NaN</td>\n",
       "      <td>NaN</td>\n",
       "      <td>NaN</td>\n",
       "      <td>NaN</td>\n",
       "      <td>0.00</td>\n",
       "      <td>NaN</td>\n",
       "      <td>NaN</td>\n",
       "      <td>6</td>\n",
       "      <td>51</td>\n",
       "      <td>300.0</td>\n",
       "      <td>NaN</td>\n",
       "      <td>0.0</td>\n",
       "    </tr>\n",
       "    <tr>\n",
       "      <th>2</th>\n",
       "      <td>60.0</td>\n",
       "      <td>27.05</td>\n",
       "      <td>10</td>\n",
       "      <td>2</td>\n",
       "      <td>3</td>\n",
       "      <td>1380593700</td>\n",
       "      <td>41.836150</td>\n",
       "      <td>-87.648788</td>\n",
       "      <td>NaN</td>\n",
       "      <td>NaN</td>\n",
       "      <td>12.60</td>\n",
       "      <td>NaN</td>\n",
       "      <td>NaN</td>\n",
       "      <td>0</td>\n",
       "      <td>59</td>\n",
       "      <td>1380.0</td>\n",
       "      <td>NaN</td>\n",
       "      <td>0.0</td>\n",
       "    </tr>\n",
       "    <tr>\n",
       "      <th>3</th>\n",
       "      <td>10.0</td>\n",
       "      <td>5.85</td>\n",
       "      <td>10</td>\n",
       "      <td>1</td>\n",
       "      <td>2</td>\n",
       "      <td>1382319000</td>\n",
       "      <td>41.985015</td>\n",
       "      <td>-87.804532</td>\n",
       "      <td>NaN</td>\n",
       "      <td>NaN</td>\n",
       "      <td>0.00</td>\n",
       "      <td>NaN</td>\n",
       "      <td>NaN</td>\n",
       "      <td>0</td>\n",
       "      <td>59</td>\n",
       "      <td>180.0</td>\n",
       "      <td>NaN</td>\n",
       "      <td>0.0</td>\n",
       "    </tr>\n",
       "    <tr>\n",
       "      <th>4</th>\n",
       "      <td>14.0</td>\n",
       "      <td>16.65</td>\n",
       "      <td>5</td>\n",
       "      <td>7</td>\n",
       "      <td>5</td>\n",
       "      <td>1369897200</td>\n",
       "      <td>41.968069</td>\n",
       "      <td>-87.721559</td>\n",
       "      <td>NaN</td>\n",
       "      <td>NaN</td>\n",
       "      <td>0.00</td>\n",
       "      <td>NaN</td>\n",
       "      <td>NaN</td>\n",
       "      <td>0</td>\n",
       "      <td>56</td>\n",
       "      <td>1080.0</td>\n",
       "      <td>NaN</td>\n",
       "      <td>0.0</td>\n",
       "    </tr>\n",
       "    <tr>\n",
       "      <th>5</th>\n",
       "      <td>13.0</td>\n",
       "      <td>16.45</td>\n",
       "      <td>11</td>\n",
       "      <td>12</td>\n",
       "      <td>3</td>\n",
       "      <td>1446554700</td>\n",
       "      <td>41.983636</td>\n",
       "      <td>-87.723583</td>\n",
       "      <td>NaN</td>\n",
       "      <td>NaN</td>\n",
       "      <td>6.90</td>\n",
       "      <td>NaN</td>\n",
       "      <td>NaN</td>\n",
       "      <td>0</td>\n",
       "      <td>61</td>\n",
       "      <td>780.0</td>\n",
       "      <td>NaN</td>\n",
       "      <td>0.0</td>\n",
       "    </tr>\n",
       "    <tr>\n",
       "      <th>6</th>\n",
       "      <td>16.0</td>\n",
       "      <td>32.05</td>\n",
       "      <td>12</td>\n",
       "      <td>1</td>\n",
       "      <td>1</td>\n",
       "      <td>1417916700</td>\n",
       "      <td>41.953582</td>\n",
       "      <td>-87.723452</td>\n",
       "      <td>NaN</td>\n",
       "      <td>NaN</td>\n",
       "      <td>15.40</td>\n",
       "      <td>NaN</td>\n",
       "      <td>NaN</td>\n",
       "      <td>0</td>\n",
       "      <td>61</td>\n",
       "      <td>1200.0</td>\n",
       "      <td>NaN</td>\n",
       "      <td>0.0</td>\n",
       "    </tr>\n",
       "    <tr>\n",
       "      <th>7</th>\n",
       "      <td>30.0</td>\n",
       "      <td>38.45</td>\n",
       "      <td>10</td>\n",
       "      <td>10</td>\n",
       "      <td>5</td>\n",
       "      <td>1444301100</td>\n",
       "      <td>41.839087</td>\n",
       "      <td>-87.714004</td>\n",
       "      <td>NaN</td>\n",
       "      <td>NaN</td>\n",
       "      <td>14.60</td>\n",
       "      <td>NaN</td>\n",
       "      <td>NaN</td>\n",
       "      <td>0</td>\n",
       "      <td>61</td>\n",
       "      <td>2580.0</td>\n",
       "      <td>NaN</td>\n",
       "      <td>0.0</td>\n",
       "    </tr>\n",
       "    <tr>\n",
       "      <th>8</th>\n",
       "      <td>11.0</td>\n",
       "      <td>14.65</td>\n",
       "      <td>1</td>\n",
       "      <td>1</td>\n",
       "      <td>3</td>\n",
       "      <td>1358213400</td>\n",
       "      <td>41.978830</td>\n",
       "      <td>-87.771167</td>\n",
       "      <td>NaN</td>\n",
       "      <td>NaN</td>\n",
       "      <td>5.81</td>\n",
       "      <td>NaN</td>\n",
       "      <td>NaN</td>\n",
       "      <td>0</td>\n",
       "      <td>61</td>\n",
       "      <td>1080.0</td>\n",
       "      <td>NaN</td>\n",
       "      <td>0.0</td>\n",
       "    </tr>\n",
       "    <tr>\n",
       "      <th>9</th>\n",
       "      <td>33.0</td>\n",
       "      <td>3.25</td>\n",
       "      <td>5</td>\n",
       "      <td>17</td>\n",
       "      <td>1</td>\n",
       "      <td>1368985500</td>\n",
       "      <td>41.849247</td>\n",
       "      <td>-87.624135</td>\n",
       "      <td>NaN</td>\n",
       "      <td>NaN</td>\n",
       "      <td>0.00</td>\n",
       "      <td>NaN</td>\n",
       "      <td>NaN</td>\n",
       "      <td>0</td>\n",
       "      <td>59</td>\n",
       "      <td>0.0</td>\n",
       "      <td>NaN</td>\n",
       "      <td>0.0</td>\n",
       "    </tr>\n",
       "  </tbody>\n",
       "</table>\n",
       "</div>"
      ],
      "text/plain": [
       "   pickup_community_area   fare  trip_start_month  trip_start_hour  \\\n",
       "0                    NaN  12.45                 5               19   \n",
       "1                    NaN   0.00                 3               19   \n",
       "2                   60.0  27.05                10                2   \n",
       "3                   10.0   5.85                10                1   \n",
       "4                   14.0  16.65                 5                7   \n",
       "5                   13.0  16.45                11               12   \n",
       "6                   16.0  32.05                12                1   \n",
       "7                   30.0  38.45                10               10   \n",
       "8                   11.0  14.65                 1                1   \n",
       "9                   33.0   3.25                 5               17   \n",
       "\n",
       "   trip_start_day  trip_start_timestamp  pickup_latitude  pickup_longitude  \\\n",
       "0               6            1400269500              NaN               NaN   \n",
       "1               5            1362683700              NaN               NaN   \n",
       "2               3            1380593700        41.836150        -87.648788   \n",
       "3               2            1382319000        41.985015        -87.804532   \n",
       "4               5            1369897200        41.968069        -87.721559   \n",
       "5               3            1446554700        41.983636        -87.723583   \n",
       "6               1            1417916700        41.953582        -87.723452   \n",
       "7               5            1444301100        41.839087        -87.714004   \n",
       "8               3            1358213400        41.978830        -87.771167   \n",
       "9               1            1368985500        41.849247        -87.624135   \n",
       "\n",
       "   dropoff_latitude  dropoff_longitude  trip_miles  pickup_census_tract  \\\n",
       "0               NaN                NaN        0.00                  NaN   \n",
       "1               NaN                NaN        0.00                  NaN   \n",
       "2               NaN                NaN       12.60                  NaN   \n",
       "3               NaN                NaN        0.00                  NaN   \n",
       "4               NaN                NaN        0.00                  NaN   \n",
       "5               NaN                NaN        6.90                  NaN   \n",
       "6               NaN                NaN       15.40                  NaN   \n",
       "7               NaN                NaN       14.60                  NaN   \n",
       "8               NaN                NaN        5.81                  NaN   \n",
       "9               NaN                NaN        0.00                  NaN   \n",
       "\n",
       "   dropoff_census_tract  payment_type  company  trip_seconds  \\\n",
       "0                   NaN             1       52           0.0   \n",
       "1                   NaN             6       51         300.0   \n",
       "2                   NaN             0       59        1380.0   \n",
       "3                   NaN             0       59         180.0   \n",
       "4                   NaN             0       56        1080.0   \n",
       "5                   NaN             0       61         780.0   \n",
       "6                   NaN             0       61        1200.0   \n",
       "7                   NaN             0       61        2580.0   \n",
       "8                   NaN             0       61        1080.0   \n",
       "9                   NaN             0       59           0.0   \n",
       "\n",
       "   dropoff_community_area  tips  \n",
       "0                     NaN   0.0  \n",
       "1                     NaN   0.0  \n",
       "2                     NaN   0.0  \n",
       "3                     NaN   0.0  \n",
       "4                     NaN   0.0  \n",
       "5                     NaN   0.0  \n",
       "6                     NaN   0.0  \n",
       "7                     NaN   0.0  \n",
       "8                     NaN   0.0  \n",
       "9                     NaN   0.0  "
      ]
     },
     "execution_count": 15,
     "metadata": {},
     "output_type": "execute_result"
    }
   ],
   "source": [
    "dataframe.head(10)"
   ]
  },
  {
   "cell_type": "code",
   "execution_count": 16,
   "id": "e208a344-6972-47f8-ba9a-751f96da21cf",
   "metadata": {
    "colab": {
     "base_uri": "https://localhost:8080/"
    },
    "id": "e208a344-6972-47f8-ba9a-751f96da21cf",
    "outputId": "928599cc-87b3-4838-fcf0-5b63bdd81545"
   },
   "outputs": [
    {
     "data": {
      "text/plain": [
       "pickup_community_area         2\n",
       "fare                          0\n",
       "trip_start_month              0\n",
       "trip_start_hour               0\n",
       "trip_start_day                0\n",
       "trip_start_timestamp          0\n",
       "pickup_latitude               2\n",
       "pickup_longitude              2\n",
       "dropoff_latitude            482\n",
       "dropoff_longitude           482\n",
       "trip_miles                    0\n",
       "pickup_census_tract       15001\n",
       "dropoff_census_tract       4241\n",
       "payment_type                  0\n",
       "company                       0\n",
       "trip_seconds                  6\n",
       "dropoff_community_area      506\n",
       "tips                          0\n",
       "dtype: int64"
      ]
     },
     "execution_count": 16,
     "metadata": {},
     "output_type": "execute_result"
    }
   ],
   "source": [
    "dataframe.isnull().sum()"
   ]
  },
  {
   "cell_type": "code",
   "execution_count": 17,
   "id": "584e2ae5-d2ee-47ba-ad3d-fae2ee649fcc",
   "metadata": {
    "colab": {
     "base_uri": "https://localhost:8080/"
    },
    "id": "584e2ae5-d2ee-47ba-ad3d-fae2ee649fcc",
    "outputId": "523be040-967e-4798-c0ab-5532a11d5806"
   },
   "outputs": [
    {
     "data": {
      "text/plain": [
       "4743"
      ]
     },
     "execution_count": 17,
     "metadata": {},
     "output_type": "execute_result"
    }
   ],
   "source": [
    "(dataframe['tips']!=0).sum()"
   ]
  },
  {
   "cell_type": "code",
   "execution_count": 19,
   "id": "7a07d5eb-e349-40fa-9b26-9d95f8585007",
   "metadata": {
    "colab": {
     "base_uri": "https://localhost:8080/",
     "height": 1000
    },
    "id": "7a07d5eb-e349-40fa-9b26-9d95f8585007",
    "outputId": "50c15a92-26ca-467b-e9d2-1d758c47477e"
   },
   "outputs": [
    {
     "name": "stdout",
     "output_type": "stream",
     "text": [
      "count    15002.000000\n",
      "mean        11.768216\n",
      "std         11.538850\n",
      "min          0.000000\n",
      "25%          5.850000\n",
      "50%          7.850000\n",
      "75%         12.450000\n",
      "max        700.070000\n",
      "Name: fare, dtype: float64\n"
     ]
    },
    {
     "name": "stderr",
     "output_type": "stream",
     "text": [
      "C:\\Users\\drahoria\\AppData\\Local\\Temp\\ipykernel_16624\\4287389136.py:6: UserWarning: \n",
      "\n",
      "`distplot` is a deprecated function and will be removed in seaborn v0.14.0.\n",
      "\n",
      "Please adapt your code to use either `displot` (a figure-level function with\n",
      "similar flexibility) or `histplot` (an axes-level function for histograms).\n",
      "\n",
      "For a guide to updating your code to use the new functions, please see\n",
      "https://gist.github.com/mwaskom/de44147ed2974457ad6372750bbe5751\n",
      "\n",
      "  sns.distplot(dataframe['fare'], color='g', bins=1, hist_kws={'alpha': 0.4});\n",
      "C:\\Users\\drahoria\\AppData\\Local\\anaconda3\\Lib\\site-packages\\seaborn\\_oldcore.py:1119: FutureWarning: use_inf_as_na option is deprecated and will be removed in a future version. Convert inf values to NaN before operating instead.\n",
      "  with pd.option_context('mode.use_inf_as_na', True):\n"
     ]
    },
    {
     "data": {
      "image/png": "[encoded data removed]",
      "text/plain": [
       "<Figure size 900x800 with 1 Axes>"
      ]
     },
     "metadata": {},
     "output_type": "display_data"
    }
   ],
   "source": [
    "import seaborn as sns\n",
    "import matplotlib.pyplot as plt\n",
    "print(dataframe['fare'].describe())\n",
    "plt.figure(figsize=(9, 8))\n",
    "#Seaborn Distplot represents the overall distribution of continuous data variables\n",
    "sns.distplot(dataframe['fare'], color='g', bins=1, hist_kws={'alpha': 0.4});"
   ]
  },
  {
   "cell_type": "code",
   "execution_count": 20,
   "id": "73809b46-2e77-4809-95b0-960e981c89b9",
   "metadata": {
    "colab": {
     "base_uri": "https://localhost:8080/",
     "height": 1000
    },
    "id": "73809b46-2e77-4809-95b0-960e981c89b9",
    "outputId": "4c44a9b7-d98a-4b3c-ea08-be9eaf69c36c"
   },
   "outputs": [
    {
     "name": "stdout",
     "output_type": "stream",
     "text": [
      "count    15002.000000\n",
      "mean         2.872820\n",
      "std         15.276007\n",
      "min          0.000000\n",
      "25%          0.000000\n",
      "50%          1.000000\n",
      "75%          2.500000\n",
      "max       1710.000000\n",
      "Name: trip_miles, dtype: float64\n"
     ]
    },
    {
     "name": "stderr",
     "output_type": "stream",
     "text": [
      "C:\\Users\\drahoria\\AppData\\Local\\Temp\\ipykernel_16624\\982052556.py:6: UserWarning: \n",
      "\n",
      "`distplot` is a deprecated function and will be removed in seaborn v0.14.0.\n",
      "\n",
      "Please adapt your code to use either `displot` (a figure-level function with\n",
      "similar flexibility) or `histplot` (an axes-level function for histograms).\n",
      "\n",
      "For a guide to updating your code to use the new functions, please see\n",
      "https://gist.github.com/mwaskom/de44147ed2974457ad6372750bbe5751\n",
      "\n",
      "  sns.distplot(dataframe['trip_miles'], color='g', bins=1, hist_kws={'alpha': 0.4});\n",
      "C:\\Users\\drahoria\\AppData\\Local\\anaconda3\\Lib\\site-packages\\seaborn\\_oldcore.py:1119: FutureWarning: use_inf_as_na option is deprecated and will be removed in a future version. Convert inf values to NaN before operating instead.\n",
      "  with pd.option_context('mode.use_inf_as_na', True):\n"
     ]
    },
    {
     "data": {
      "image/png": "[encoded data removed]",
      "text/plain": [
       "<Figure size 900x800 with 1 Axes>"
      ]
     },
     "metadata": {},
     "output_type": "display_data"
    }
   ],
   "source": [
    "import seaborn as sns\n",
    "import matplotlib.pyplot as plt\n",
    "print(dataframe['trip_miles'].describe())\n",
    "plt.figure(figsize=(9, 8))\n",
    "#Seaborn Distplot represents the overall distribution of continuous data variables\n",
    "sns.distplot(dataframe['trip_miles'], color='g', bins=1, hist_kws={'alpha': 0.4});"
   ]
  },
  {
   "cell_type": "code",
   "execution_count": 21,
   "id": "168574bf-2464-482e-a3cd-ca4bda340c61",
   "metadata": {
    "colab": {
     "base_uri": "https://localhost:8080/",
     "height": 1000
    },
    "id": "168574bf-2464-482e-a3cd-ca4bda340c61",
    "outputId": "a33179ed-fd67-4699-adf3-469a368dbeef"
   },
   "outputs": [
    {
     "name": "stdout",
     "output_type": "stream",
     "text": [
      "count    14996.000000\n",
      "mean       777.627501\n",
      "std        977.538769\n",
      "min          0.000000\n",
      "25%        360.000000\n",
      "50%        540.000000\n",
      "75%        960.000000\n",
      "max      72120.000000\n",
      "Name: trip_seconds, dtype: float64\n"
     ]
    },
    {
     "name": "stderr",
     "output_type": "stream",
     "text": [
      "C:\\Users\\drahoria\\AppData\\Local\\Temp\\ipykernel_16624\\4089400556.py:6: UserWarning: \n",
      "\n",
      "`distplot` is a deprecated function and will be removed in seaborn v0.14.0.\n",
      "\n",
      "Please adapt your code to use either `displot` (a figure-level function with\n",
      "similar flexibility) or `histplot` (an axes-level function for histograms).\n",
      "\n",
      "For a guide to updating your code to use the new functions, please see\n",
      "https://gist.github.com/mwaskom/de44147ed2974457ad6372750bbe5751\n",
      "\n",
      "  sns.distplot(dataframe['trip_seconds'], color='g', bins=1, hist_kws={'alpha': 0.4});\n",
      "C:\\Users\\drahoria\\AppData\\Local\\anaconda3\\Lib\\site-packages\\seaborn\\_oldcore.py:1119: FutureWarning: use_inf_as_na option is deprecated and will be removed in a future version. Convert inf values to NaN before operating instead.\n",
      "  with pd.option_context('mode.use_inf_as_na', True):\n"
     ]
    },
    {
     "data": {
      "image/png": "[encoded data removed]",
      "text/plain": [
       "<Figure size 900x800 with 1 Axes>"
      ]
     },
     "metadata": {},
     "output_type": "display_data"
    }
   ],
   "source": [
    "import seaborn as sns\n",
    "import matplotlib.pyplot as plt\n",
    "print(dataframe['trip_seconds'].describe())\n",
    "plt.figure(figsize=(9, 8))\n",
    "#Seaborn Distplot represents the overall distribution of continuous data variables\n",
    "sns.distplot(dataframe['trip_seconds'], color='g', bins=1, hist_kws={'alpha': 0.4});"
   ]
  },
  {
   "cell_type": "code",
   "execution_count": 22,
   "id": "b43dc7c0",
   "metadata": {
    "colab": {
     "base_uri": "https://localhost:8080/",
     "height": 1000
    },
    "id": "b43dc7c0",
    "outputId": "e16eba8d-3f33-442d-fcbd-5dbb7eff29b0"
   },
   "outputs": [
    {
     "name": "stdout",
     "output_type": "stream",
     "text": [
      "count    15002.000000\n",
      "mean        13.632316\n",
      "std          6.620927\n",
      "min          0.000000\n",
      "25%          9.000000\n",
      "50%         15.000000\n",
      "75%         19.000000\n",
      "max         23.000000\n",
      "Name: trip_start_hour, dtype: float64\n"
     ]
    },
    {
     "name": "stderr",
     "output_type": "stream",
     "text": [
      "C:\\Users\\drahoria\\AppData\\Local\\Temp\\ipykernel_16624\\2482991212.py:6: UserWarning: \n",
      "\n",
      "`distplot` is a deprecated function and will be removed in seaborn v0.14.0.\n",
      "\n",
      "Please adapt your code to use either `displot` (a figure-level function with\n",
      "similar flexibility) or `histplot` (an axes-level function for histograms).\n",
      "\n",
      "For a guide to updating your code to use the new functions, please see\n",
      "https://gist.github.com/mwaskom/de44147ed2974457ad6372750bbe5751\n",
      "\n",
      "  sns.distplot(dataframe['trip_start_hour'], color='g', bins=10, hist_kws={'alpha': 0.4});\n",
      "C:\\Users\\drahoria\\AppData\\Local\\anaconda3\\Lib\\site-packages\\seaborn\\_oldcore.py:1119: FutureWarning: use_inf_as_na option is deprecated and will be removed in a future version. Convert inf values to NaN before operating instead.\n",
      "  with pd.option_context('mode.use_inf_as_na', True):\n"
     ]
    },
    {
     "data": {
      "image/png": "[encoded data removed]",
      "text/plain": [
       "<Figure size 900x800 with 1 Axes>"
      ]
     },
     "metadata": {},
     "output_type": "display_data"
    }
   ],
   "source": [
    "import seaborn as sns\n",
    "import matplotlib.pyplot as plt\n",
    "print(dataframe['trip_start_hour'].describe())\n",
    "plt.figure(figsize=(9, 8))\n",
    "#Seaborn Distplot represents the overall distribution of continuous data variables\n",
    "sns.distplot(dataframe['trip_start_hour'], color='g', bins=10, hist_kws={'alpha': 0.4});"
   ]
  },
  {
   "cell_type": "code",
   "execution_count": 23,
   "id": "1d061e7f",
   "metadata": {
    "colab": {
     "base_uri": "https://localhost:8080/",
     "height": 1000
    },
    "id": "1d061e7f",
    "outputId": "18a10002-134b-4772-fc7b-d620c005583c"
   },
   "outputs": [
    {
     "name": "stdout",
     "output_type": "stream",
     "text": [
      "count    15002.000000\n",
      "mean         4.186642\n",
      "std          2.015694\n",
      "min          1.000000\n",
      "25%          2.000000\n",
      "50%          4.000000\n",
      "75%          6.000000\n",
      "max          7.000000\n",
      "Name: trip_start_day, dtype: float64\n"
     ]
    },
    {
     "name": "stderr",
     "output_type": "stream",
     "text": [
      "C:\\Users\\drahoria\\AppData\\Local\\Temp\\ipykernel_16624\\3310478783.py:6: UserWarning: \n",
      "\n",
      "`distplot` is a deprecated function and will be removed in seaborn v0.14.0.\n",
      "\n",
      "Please adapt your code to use either `displot` (a figure-level function with\n",
      "similar flexibility) or `histplot` (an axes-level function for histograms).\n",
      "\n",
      "For a guide to updating your code to use the new functions, please see\n",
      "https://gist.github.com/mwaskom/de44147ed2974457ad6372750bbe5751\n",
      "\n",
      "  sns.distplot(dataframe['trip_start_day'], color='g', bins=10, hist_kws={'alpha': 0.4});\n",
      "C:\\Users\\drahoria\\AppData\\Local\\anaconda3\\Lib\\site-packages\\seaborn\\_oldcore.py:1119: FutureWarning: use_inf_as_na option is deprecated and will be removed in a future version. Convert inf values to NaN before operating instead.\n",
      "  with pd.option_context('mode.use_inf_as_na', True):\n"
     ]
    },
    {
     "data": {
      "image/png": "[encoded data removed]",
      "text/plain": [
       "<Figure size 900x800 with 1 Axes>"
      ]
     },
     "metadata": {},
     "output_type": "display_data"
    }
   ],
   "source": [
    "import seaborn as sns\n",
    "import matplotlib.pyplot as plt\n",
    "print(dataframe['trip_start_day'].describe())\n",
    "plt.figure(figsize=(9, 8))\n",
    "#Seaborn Distplot represents the overall distribution of continuous data variables\n",
    "sns.distplot(dataframe['trip_start_day'], color='g', bins=10, hist_kws={'alpha': 0.4});\n",
    "\n",
    "# No distribution/correlation"
   ]
  },
  {
   "cell_type": "code",
   "execution_count": 24,
   "id": "d2f8d081",
   "metadata": {
    "colab": {
     "base_uri": "https://localhost:8080/",
     "height": 1000
    },
    "id": "d2f8d081",
    "outputId": "1c298350-a61c-44ba-e112-412f18d93e72"
   },
   "outputs": [
    {
     "name": "stdout",
     "output_type": "stream",
     "text": [
      "count    1.500200e+04\n",
      "mean     1.408495e+09\n",
      "std      2.916043e+07\n",
      "min      1.357000e+09\n",
      "25%      1.384622e+09\n",
      "50%      1.407260e+09\n",
      "75%      1.431339e+09\n",
      "max      1.483116e+09\n",
      "Name: trip_start_timestamp, dtype: float64\n"
     ]
    },
    {
     "name": "stderr",
     "output_type": "stream",
     "text": [
      "C:\\Users\\drahoria\\AppData\\Local\\Temp\\ipykernel_16624\\232155938.py:6: UserWarning: \n",
      "\n",
      "`distplot` is a deprecated function and will be removed in seaborn v0.14.0.\n",
      "\n",
      "Please adapt your code to use either `displot` (a figure-level function with\n",
      "similar flexibility) or `histplot` (an axes-level function for histograms).\n",
      "\n",
      "For a guide to updating your code to use the new functions, please see\n",
      "https://gist.github.com/mwaskom/de44147ed2974457ad6372750bbe5751\n",
      "\n",
      "  sns.distplot(dataframe['trip_start_timestamp'], color='g', bins=10, hist_kws={'alpha': 0.4});\n",
      "C:\\Users\\drahoria\\AppData\\Local\\anaconda3\\Lib\\site-packages\\seaborn\\_oldcore.py:1119: FutureWarning: use_inf_as_na option is deprecated and will be removed in a future version. Convert inf values to NaN before operating instead.\n",
      "  with pd.option_context('mode.use_inf_as_na', True):\n"
     ]
    },
    {
     "data": {
      "image/png": "[encoded data removed]",
      "text/plain": [
       "<Figure size 900x800 with 1 Axes>"
      ]
     },
     "metadata": {},
     "output_type": "display_data"
    }
   ],
   "source": [
    "import seaborn as sns\n",
    "import matplotlib.pyplot as plt\n",
    "print(dataframe['trip_start_timestamp'].describe())\n",
    "plt.figure(figsize=(9, 8))\n",
    "#Seaborn Distplot represents the overall distribution of continuous data variables\n",
    "sns.distplot(dataframe['trip_start_timestamp'], color='g', bins=10, hist_kws={'alpha': 0.4});\n",
    "\n",
    "# No close distribution"
   ]
  },
  {
   "cell_type": "code",
   "execution_count": 25,
   "id": "57c341df-f721-4702-8535-285b4be9063c",
   "metadata": {
    "colab": {
     "base_uri": "https://localhost:8080/"
    },
    "id": "57c341df-f721-4702-8535-285b4be9063c",
    "outputId": "35b90070-fef5-4dd7-a428-50795070b2d9"
   },
   "outputs": [
    {
     "data": {
      "text/plain": [
       "0        52\n",
       "1        51\n",
       "2        59\n",
       "3        59\n",
       "4        56\n",
       "         ..\n",
       "14997    59\n",
       "14998    59\n",
       "14999    61\n",
       "15000    59\n",
       "15001    59\n",
       "Name: company, Length: 15002, dtype: int32"
      ]
     },
     "execution_count": 25,
     "metadata": {},
     "output_type": "execute_result"
    }
   ],
   "source": [
    "dataframe.company"
   ]
  },
  {
   "cell_type": "code",
   "execution_count": 26,
   "id": "1972c2a0-703a-4109-852f-e0d8a58558c8",
   "metadata": {
    "colab": {
     "base_uri": "https://localhost:8080/"
    },
    "id": "1972c2a0-703a-4109-852f-e0d8a58558c8",
    "outputId": "4aaa4a69-b3e7-4134-edff-09cd6091c065"
   },
   "outputs": [
    {
     "data": {
      "text/plain": [
       "Index(['pickup_community_area', 'fare', 'trip_start_month', 'trip_start_hour',\n",
       "       'trip_start_day', 'trip_start_timestamp', 'pickup_latitude',\n",
       "       'pickup_longitude', 'dropoff_latitude', 'dropoff_longitude',\n",
       "       'trip_miles', 'pickup_census_tract', 'dropoff_census_tract',\n",
       "       'payment_type', 'company', 'trip_seconds', 'dropoff_community_area',\n",
       "       'tips'],\n",
       "      dtype='object')"
      ]
     },
     "execution_count": 26,
     "metadata": {},
     "output_type": "execute_result"
    }
   ],
   "source": [
    "dataframe.columns"
   ]
  },
  {
   "cell_type": "code",
   "execution_count": 27,
   "id": "d09d8666",
   "metadata": {
    "colab": {
     "base_uri": "https://localhost:8080/",
     "height": 430
    },
    "id": "d09d8666",
    "outputId": "1699a566-5df1-45b2-8a94-d7f8f733e039"
   },
   "outputs": [
    {
     "data": {
      "image/png": "[encoded data removed]",
      "text/plain": [
       "<Figure size 640x480 with 1 Axes>"
      ]
     },
     "metadata": {},
     "output_type": "display_data"
    }
   ],
   "source": [
    "# Good variation of data\n",
    "ax = dataframe['company'].plot.hist(bins=8, alpha=0.5)"
   ]
  },
  {
   "cell_type": "code",
   "execution_count": 28,
   "id": "307465fd",
   "metadata": {
    "colab": {
     "base_uri": "https://localhost:8080/",
     "height": 430
    },
    "id": "307465fd",
    "outputId": "1212364d-75b3-4845-871e-823040060712"
   },
   "outputs": [
    {
     "data": {
      "image/png": "[encoded data removed]",
      "text/plain": [
       "<Figure size 640x480 with 1 Axes>"
      ]
     },
     "metadata": {},
     "output_type": "display_data"
    }
   ],
   "source": [
    "# This has sparse values.\n",
    "ax = dataframe['payment_type'].plot.hist(bins=10, alpha=0.5)"
   ]
  },
  {
   "cell_type": "code",
   "execution_count": 29,
   "id": "a4c8af6f",
   "metadata": {
    "colab": {
     "base_uri": "https://localhost:8080/"
    },
    "id": "a4c8af6f",
    "outputId": "7f1c260a-5b73-445b-bbd9-b59ffb9df5e1"
   },
   "outputs": [
    {
     "data": {
      "text/plain": [
       "company\n",
       "59    5176\n",
       "61    5140\n",
       "56    1636\n",
       "49    1090\n",
       "55     872\n",
       "      ... \n",
       "8        1\n",
       "19       1\n",
       "10       1\n",
       "44       1\n",
       "43       1\n",
       "Name: count, Length: 62, dtype: int64"
      ]
     },
     "execution_count": 29,
     "metadata": {},
     "output_type": "execute_result"
    }
   ],
   "source": [
    "# Get the frequency counts\n",
    "dataframe[\"company\"].value_counts()"
   ]
  },
  {
   "cell_type": "code",
   "execution_count": 30,
   "id": "46296a58",
   "metadata": {
    "colab": {
     "base_uri": "https://localhost:8080/"
    },
    "id": "46296a58",
    "outputId": "3837c822-a135-49b0-823c-ad2af280aa4b"
   },
   "outputs": [
    {
     "data": {
      "text/plain": [
       "payment_type\n",
       "0    9909\n",
       "1    4975\n",
       "3      81\n",
       "6      29\n",
       "2       4\n",
       "4       3\n",
       "5       1\n",
       "Name: count, dtype: int64"
      ]
     },
     "execution_count": 30,
     "metadata": {},
     "output_type": "execute_result"
    }
   ],
   "source": [
    "# Get the frequency counts\n",
    "dataframe[\"payment_type\"].value_counts()"
   ]
  },
  {
   "cell_type": "code",
   "execution_count": 31,
   "id": "c4e56f57",
   "metadata": {
    "colab": {
     "base_uri": "https://localhost:8080/"
    },
    "id": "c4e56f57",
    "outputId": "e4424fdb-b310-4af3-c6b0-64649b349c2e"
   },
   "outputs": [
    {
     "data": {
      "text/plain": [
       "pickup_community_area\n",
       "8.0     4908\n",
       "32.0    3303\n",
       "28.0    1284\n",
       "6.0     1180\n",
       "76.0     895\n",
       "        ... \n",
       "20.0       1\n",
       "74.0       1\n",
       "18.0       1\n",
       "66.0       1\n",
       "61.0       1\n",
       "Name: count, Length: 62, dtype: int64"
      ]
     },
     "execution_count": 31,
     "metadata": {},
     "output_type": "execute_result"
    }
   ],
   "source": [
    "# Same value repeats again. Should be considered as a categorical variable.\n",
    "dataframe[\"pickup_community_area\"].value_counts()"
   ]
  },
  {
   "cell_type": "code",
   "execution_count": 32,
   "id": "fb2ab8fa",
   "metadata": {
    "colab": {
     "base_uri": "https://localhost:8080/"
    },
    "id": "fb2ab8fa",
    "outputId": "05229182-9306-4948-ac5a-030b56034d33"
   },
   "outputs": [
    {
     "data": {
      "text/plain": [
       "dropoff_community_area\n",
       "8.0     4307\n",
       "32.0    2736\n",
       "28.0    1450\n",
       "6.0     1107\n",
       "7.0     1036\n",
       "        ... \n",
       "18.0       1\n",
       "0.0        1\n",
       "50.0       1\n",
       "48.0       1\n",
       "71.0       1\n",
       "Name: count, Length: 70, dtype: int64"
      ]
     },
     "execution_count": 32,
     "metadata": {},
     "output_type": "execute_result"
    }
   ],
   "source": [
    "dataframe[\"dropoff_community_area\"].value_counts()"
   ]
  },
  {
   "cell_type": "code",
   "execution_count": 33,
   "id": "a15c73ba",
   "metadata": {
    "colab": {
     "base_uri": "https://localhost:8080/",
     "height": 430
    },
    "id": "a15c73ba",
    "outputId": "f2114c3c-8c7c-4581-a52b-90f5dfec7205"
   },
   "outputs": [
    {
     "data": {
      "image/png": "[encoded data removed]",
      "text/plain": [
       "<Figure size 640x480 with 1 Axes>"
      ]
     },
     "metadata": {},
     "output_type": "display_data"
    }
   ],
   "source": [
    "ax = dataframe['pickup_community_area'].plot.hist(bins=10, alpha=0.5)"
   ]
  },
  {
   "cell_type": "code",
   "execution_count": 34,
   "id": "27d230bf",
   "metadata": {
    "colab": {
     "base_uri": "https://localhost:8080/",
     "height": 430
    },
    "id": "27d230bf",
    "outputId": "cf53e10a-c882-42fe-8c9e-11891c1c004a"
   },
   "outputs": [
    {
     "data": {
      "image/png": "[encoded data removed]",
      "text/plain": [
       "<Figure size 640x480 with 1 Axes>"
      ]
     },
     "metadata": {},
     "output_type": "display_data"
    }
   ],
   "source": [
    "ax = dataframe['dropoff_community_area'].plot.hist(bins=10, alpha=0.5)"
   ]
  },
  {
   "cell_type": "code",
   "execution_count": 35,
   "id": "ad8a8ae1",
   "metadata": {
    "id": "ad8a8ae1"
   },
   "outputs": [],
   "source": [
    "# Convert pickup_community_area and dropoff_community_area as categorical variable\n",
    "dataframe['pickup_community_area']= label_encoder.fit_transform(dataframe['pickup_community_area'])"
   ]
  },
  {
   "cell_type": "code",
   "execution_count": 36,
   "id": "3c58c40f",
   "metadata": {
    "id": "3c58c40f"
   },
   "outputs": [],
   "source": [
    "dataframe['dropoff_community_area']= label_encoder.fit_transform(dataframe['dropoff_community_area'])\n",
    "\n"
   ]
  },
  {
   "cell_type": "code",
   "execution_count": 37,
   "id": "53453bd2",
   "metadata": {
    "colab": {
     "base_uri": "https://localhost:8080/",
     "height": 383
    },
    "id": "53453bd2",
    "outputId": "574269ab-2ccd-43c5-aad9-67903918d2ed"
   },
   "outputs": [
    {
     "data": {
      "text/html": [
       "<div>\n",
       "<style scoped>\n",
       "    .dataframe tbody tr th:only-of-type {\n",
       "        vertical-align: middle;\n",
       "    }\n",
       "\n",
       "    .dataframe tbody tr th {\n",
       "        vertical-align: top;\n",
       "    }\n",
       "\n",
       "    .dataframe thead th {\n",
       "        text-align: right;\n",
       "    }\n",
       "</style>\n",
       "<table border=\"1\" class=\"dataframe\">\n",
       "  <thead>\n",
       "    <tr style=\"text-align: right;\">\n",
       "      <th></th>\n",
       "      <th>pickup_community_area</th>\n",
       "      <th>fare</th>\n",
       "      <th>trip_start_month</th>\n",
       "      <th>trip_start_hour</th>\n",
       "      <th>trip_start_day</th>\n",
       "      <th>trip_start_timestamp</th>\n",
       "      <th>pickup_latitude</th>\n",
       "      <th>pickup_longitude</th>\n",
       "      <th>dropoff_latitude</th>\n",
       "      <th>dropoff_longitude</th>\n",
       "      <th>trip_miles</th>\n",
       "      <th>pickup_census_tract</th>\n",
       "      <th>dropoff_census_tract</th>\n",
       "      <th>payment_type</th>\n",
       "      <th>company</th>\n",
       "      <th>trip_seconds</th>\n",
       "      <th>dropoff_community_area</th>\n",
       "      <th>tips</th>\n",
       "    </tr>\n",
       "  </thead>\n",
       "  <tbody>\n",
       "    <tr>\n",
       "      <th>0</th>\n",
       "      <td>62</td>\n",
       "      <td>12.45</td>\n",
       "      <td>5</td>\n",
       "      <td>19</td>\n",
       "      <td>6</td>\n",
       "      <td>1400269500</td>\n",
       "      <td>NaN</td>\n",
       "      <td>NaN</td>\n",
       "      <td>NaN</td>\n",
       "      <td>NaN</td>\n",
       "      <td>0.00</td>\n",
       "      <td>NaN</td>\n",
       "      <td>NaN</td>\n",
       "      <td>1</td>\n",
       "      <td>52</td>\n",
       "      <td>0.0</td>\n",
       "      <td>70</td>\n",
       "      <td>0.0</td>\n",
       "    </tr>\n",
       "    <tr>\n",
       "      <th>1</th>\n",
       "      <td>62</td>\n",
       "      <td>0.00</td>\n",
       "      <td>3</td>\n",
       "      <td>19</td>\n",
       "      <td>5</td>\n",
       "      <td>1362683700</td>\n",
       "      <td>NaN</td>\n",
       "      <td>NaN</td>\n",
       "      <td>NaN</td>\n",
       "      <td>NaN</td>\n",
       "      <td>0.00</td>\n",
       "      <td>NaN</td>\n",
       "      <td>NaN</td>\n",
       "      <td>6</td>\n",
       "      <td>51</td>\n",
       "      <td>300.0</td>\n",
       "      <td>70</td>\n",
       "      <td>0.0</td>\n",
       "    </tr>\n",
       "    <tr>\n",
       "      <th>2</th>\n",
       "      <td>49</td>\n",
       "      <td>27.05</td>\n",
       "      <td>10</td>\n",
       "      <td>2</td>\n",
       "      <td>3</td>\n",
       "      <td>1380593700</td>\n",
       "      <td>41.836150</td>\n",
       "      <td>-87.648788</td>\n",
       "      <td>NaN</td>\n",
       "      <td>NaN</td>\n",
       "      <td>12.60</td>\n",
       "      <td>NaN</td>\n",
       "      <td>NaN</td>\n",
       "      <td>0</td>\n",
       "      <td>59</td>\n",
       "      <td>1380.0</td>\n",
       "      <td>70</td>\n",
       "      <td>0.0</td>\n",
       "    </tr>\n",
       "    <tr>\n",
       "      <th>3</th>\n",
       "      <td>9</td>\n",
       "      <td>5.85</td>\n",
       "      <td>10</td>\n",
       "      <td>1</td>\n",
       "      <td>2</td>\n",
       "      <td>1382319000</td>\n",
       "      <td>41.985015</td>\n",
       "      <td>-87.804532</td>\n",
       "      <td>NaN</td>\n",
       "      <td>NaN</td>\n",
       "      <td>0.00</td>\n",
       "      <td>NaN</td>\n",
       "      <td>NaN</td>\n",
       "      <td>0</td>\n",
       "      <td>59</td>\n",
       "      <td>180.0</td>\n",
       "      <td>70</td>\n",
       "      <td>0.0</td>\n",
       "    </tr>\n",
       "    <tr>\n",
       "      <th>4</th>\n",
       "      <td>13</td>\n",
       "      <td>16.65</td>\n",
       "      <td>5</td>\n",
       "      <td>7</td>\n",
       "      <td>5</td>\n",
       "      <td>1369897200</td>\n",
       "      <td>41.968069</td>\n",
       "      <td>-87.721559</td>\n",
       "      <td>NaN</td>\n",
       "      <td>NaN</td>\n",
       "      <td>0.00</td>\n",
       "      <td>NaN</td>\n",
       "      <td>NaN</td>\n",
       "      <td>0</td>\n",
       "      <td>56</td>\n",
       "      <td>1080.0</td>\n",
       "      <td>70</td>\n",
       "      <td>0.0</td>\n",
       "    </tr>\n",
       "    <tr>\n",
       "      <th>5</th>\n",
       "      <td>12</td>\n",
       "      <td>16.45</td>\n",
       "      <td>11</td>\n",
       "      <td>12</td>\n",
       "      <td>3</td>\n",
       "      <td>1446554700</td>\n",
       "      <td>41.983636</td>\n",
       "      <td>-87.723583</td>\n",
       "      <td>NaN</td>\n",
       "      <td>NaN</td>\n",
       "      <td>6.90</td>\n",
       "      <td>NaN</td>\n",
       "      <td>NaN</td>\n",
       "      <td>0</td>\n",
       "      <td>61</td>\n",
       "      <td>780.0</td>\n",
       "      <td>70</td>\n",
       "      <td>0.0</td>\n",
       "    </tr>\n",
       "    <tr>\n",
       "      <th>6</th>\n",
       "      <td>15</td>\n",
       "      <td>32.05</td>\n",
       "      <td>12</td>\n",
       "      <td>1</td>\n",
       "      <td>1</td>\n",
       "      <td>1417916700</td>\n",
       "      <td>41.953582</td>\n",
       "      <td>-87.723452</td>\n",
       "      <td>NaN</td>\n",
       "      <td>NaN</td>\n",
       "      <td>15.40</td>\n",
       "      <td>NaN</td>\n",
       "      <td>NaN</td>\n",
       "      <td>0</td>\n",
       "      <td>61</td>\n",
       "      <td>1200.0</td>\n",
       "      <td>70</td>\n",
       "      <td>0.0</td>\n",
       "    </tr>\n",
       "    <tr>\n",
       "      <th>7</th>\n",
       "      <td>29</td>\n",
       "      <td>38.45</td>\n",
       "      <td>10</td>\n",
       "      <td>10</td>\n",
       "      <td>5</td>\n",
       "      <td>1444301100</td>\n",
       "      <td>41.839087</td>\n",
       "      <td>-87.714004</td>\n",
       "      <td>NaN</td>\n",
       "      <td>NaN</td>\n",
       "      <td>14.60</td>\n",
       "      <td>NaN</td>\n",
       "      <td>NaN</td>\n",
       "      <td>0</td>\n",
       "      <td>61</td>\n",
       "      <td>2580.0</td>\n",
       "      <td>70</td>\n",
       "      <td>0.0</td>\n",
       "    </tr>\n",
       "    <tr>\n",
       "      <th>8</th>\n",
       "      <td>10</td>\n",
       "      <td>14.65</td>\n",
       "      <td>1</td>\n",
       "      <td>1</td>\n",
       "      <td>3</td>\n",
       "      <td>1358213400</td>\n",
       "      <td>41.978830</td>\n",
       "      <td>-87.771167</td>\n",
       "      <td>NaN</td>\n",
       "      <td>NaN</td>\n",
       "      <td>5.81</td>\n",
       "      <td>NaN</td>\n",
       "      <td>NaN</td>\n",
       "      <td>0</td>\n",
       "      <td>61</td>\n",
       "      <td>1080.0</td>\n",
       "      <td>70</td>\n",
       "      <td>0.0</td>\n",
       "    </tr>\n",
       "    <tr>\n",
       "      <th>9</th>\n",
       "      <td>32</td>\n",
       "      <td>3.25</td>\n",
       "      <td>5</td>\n",
       "      <td>17</td>\n",
       "      <td>1</td>\n",
       "      <td>1368985500</td>\n",
       "      <td>41.849247</td>\n",
       "      <td>-87.624135</td>\n",
       "      <td>NaN</td>\n",
       "      <td>NaN</td>\n",
       "      <td>0.00</td>\n",
       "      <td>NaN</td>\n",
       "      <td>NaN</td>\n",
       "      <td>0</td>\n",
       "      <td>59</td>\n",
       "      <td>0.0</td>\n",
       "      <td>70</td>\n",
       "      <td>0.0</td>\n",
       "    </tr>\n",
       "  </tbody>\n",
       "</table>\n",
       "</div>"
      ],
      "text/plain": [
       "   pickup_community_area   fare  trip_start_month  trip_start_hour  \\\n",
       "0                     62  12.45                 5               19   \n",
       "1                     62   0.00                 3               19   \n",
       "2                     49  27.05                10                2   \n",
       "3                      9   5.85                10                1   \n",
       "4                     13  16.65                 5                7   \n",
       "5                     12  16.45                11               12   \n",
       "6                     15  32.05                12                1   \n",
       "7                     29  38.45                10               10   \n",
       "8                     10  14.65                 1                1   \n",
       "9                     32   3.25                 5               17   \n",
       "\n",
       "   trip_start_day  trip_start_timestamp  pickup_latitude  pickup_longitude  \\\n",
       "0               6            1400269500              NaN               NaN   \n",
       "1               5            1362683700              NaN               NaN   \n",
       "2               3            1380593700        41.836150        -87.648788   \n",
       "3               2            1382319000        41.985015        -87.804532   \n",
       "4               5            1369897200        41.968069        -87.721559   \n",
       "5               3            1446554700        41.983636        -87.723583   \n",
       "6               1            1417916700        41.953582        -87.723452   \n",
       "7               5            1444301100        41.839087        -87.714004   \n",
       "8               3            1358213400        41.978830        -87.771167   \n",
       "9               1            1368985500        41.849247        -87.624135   \n",
       "\n",
       "   dropoff_latitude  dropoff_longitude  trip_miles  pickup_census_tract  \\\n",
       "0               NaN                NaN        0.00                  NaN   \n",
       "1               NaN                NaN        0.00                  NaN   \n",
       "2               NaN                NaN       12.60                  NaN   \n",
       "3               NaN                NaN        0.00                  NaN   \n",
       "4               NaN                NaN        0.00                  NaN   \n",
       "5               NaN                NaN        6.90                  NaN   \n",
       "6               NaN                NaN       15.40                  NaN   \n",
       "7               NaN                NaN       14.60                  NaN   \n",
       "8               NaN                NaN        5.81                  NaN   \n",
       "9               NaN                NaN        0.00                  NaN   \n",
       "\n",
       "   dropoff_census_tract  payment_type  company  trip_seconds  \\\n",
       "0                   NaN             1       52           0.0   \n",
       "1                   NaN             6       51         300.0   \n",
       "2                   NaN             0       59        1380.0   \n",
       "3                   NaN             0       59         180.0   \n",
       "4                   NaN             0       56        1080.0   \n",
       "5                   NaN             0       61         780.0   \n",
       "6                   NaN             0       61        1200.0   \n",
       "7                   NaN             0       61        2580.0   \n",
       "8                   NaN             0       61        1080.0   \n",
       "9                   NaN             0       59           0.0   \n",
       "\n",
       "   dropoff_community_area  tips  \n",
       "0                      70   0.0  \n",
       "1                      70   0.0  \n",
       "2                      70   0.0  \n",
       "3                      70   0.0  \n",
       "4                      70   0.0  \n",
       "5                      70   0.0  \n",
       "6                      70   0.0  \n",
       "7                      70   0.0  \n",
       "8                      70   0.0  \n",
       "9                      70   0.0  "
      ]
     },
     "execution_count": 37,
     "metadata": {},
     "output_type": "execute_result"
    }
   ],
   "source": [
    "dataframe.head(10)"
   ]
  },
  {
   "cell_type": "code",
   "execution_count": 38,
   "id": "2b2be00d",
   "metadata": {
    "colab": {
     "base_uri": "https://localhost:8080/",
     "height": 779
    },
    "id": "2b2be00d",
    "outputId": "09886c71-67b1-4a64-bc05-f16052453452"
   },
   "outputs": [
    {
     "name": "stderr",
     "output_type": "stream",
     "text": [
      "C:\\Users\\drahoria\\AppData\\Local\\anaconda3\\Lib\\site-packages\\seaborn\\matrix.py:260: FutureWarning: Format strings passed to MaskedConstant are ignored, but in future may error or produce different behavior\n",
      "  annotation = (\"{:\" + self.fmt + \"}\").format(val)\n"
     ]
    },
    {
     "data": {
      "image/png": "[encoded data removed]",
      "text/plain": [
       "<Figure size 1200x1000 with 2 Axes>"
      ]
     },
     "metadata": {},
     "output_type": "display_data"
    }
   ],
   "source": [
    "corr = dataframe.corr()\n",
    "plt.figure(figsize=(12, 10))\n",
    "#https://seaborn.pydata.org/generated/seaborn.heatmap.html\n",
    "sns.heatmap(corr[(corr >= 0.4) | (corr <= -0.4)],\n",
    "            cmap='viridis', vmax=1.0, vmin=-1.0, linewidths=0.1,\n",
    "            annot=True, annot_kws={\"size\": 8}, square=True);"
   ]
  },
  {
   "cell_type": "code",
   "execution_count": 39,
   "id": "9f86016f",
   "metadata": {
    "id": "9f86016f"
   },
   "outputs": [],
   "source": [
    "# Conclusions: Payment_type and tips are related, dropoff_community_area and dropoff_census_tract are correlated, fare and trip seconds are correlated\n",
    "\n",
    "# From the analysis, we drop tips, pickup_census_tract, dropoff_census_tract, pickup_latitude, dropoff_lattitude,trip_start_timestamp, trip_start_day, trip_start_month\n",
    "\n",
    "##Drop useless columns\n",
    "df = dataframe.drop(['trip_start_timestamp','trip_start_day','trip_start_month','pickup_census_tract',\n",
    "              'dropoff_census_tract','payment_type','tips','dropoff_latitude','pickup_latitude', 'dropoff_longitude', 'pickup_longitude'], axis=1)\n",
    "\n",
    "#Drop NA rows\n",
    "df = df.dropna()"
   ]
  },
  {
   "cell_type": "code",
   "execution_count": 40,
   "id": "c311f29c",
   "metadata": {
    "colab": {
     "base_uri": "https://localhost:8080/",
     "height": 383
    },
    "id": "c311f29c",
    "outputId": "442814b3-7178-451e-b27f-bcb04a477583"
   },
   "outputs": [
    {
     "data": {
      "text/html": [
       "<div>\n",
       "<style scoped>\n",
       "    .dataframe tbody tr th:only-of-type {\n",
       "        vertical-align: middle;\n",
       "    }\n",
       "\n",
       "    .dataframe tbody tr th {\n",
       "        vertical-align: top;\n",
       "    }\n",
       "\n",
       "    .dataframe thead th {\n",
       "        text-align: right;\n",
       "    }\n",
       "</style>\n",
       "<table border=\"1\" class=\"dataframe\">\n",
       "  <thead>\n",
       "    <tr style=\"text-align: right;\">\n",
       "      <th></th>\n",
       "      <th>pickup_community_area</th>\n",
       "      <th>fare</th>\n",
       "      <th>trip_start_hour</th>\n",
       "      <th>trip_miles</th>\n",
       "      <th>company</th>\n",
       "      <th>trip_seconds</th>\n",
       "      <th>dropoff_community_area</th>\n",
       "    </tr>\n",
       "  </thead>\n",
       "  <tbody>\n",
       "    <tr>\n",
       "      <th>0</th>\n",
       "      <td>62</td>\n",
       "      <td>12.45</td>\n",
       "      <td>19</td>\n",
       "      <td>0.00</td>\n",
       "      <td>52</td>\n",
       "      <td>0.0</td>\n",
       "      <td>70</td>\n",
       "    </tr>\n",
       "    <tr>\n",
       "      <th>1</th>\n",
       "      <td>62</td>\n",
       "      <td>0.00</td>\n",
       "      <td>19</td>\n",
       "      <td>0.00</td>\n",
       "      <td>51</td>\n",
       "      <td>300.0</td>\n",
       "      <td>70</td>\n",
       "    </tr>\n",
       "    <tr>\n",
       "      <th>2</th>\n",
       "      <td>49</td>\n",
       "      <td>27.05</td>\n",
       "      <td>2</td>\n",
       "      <td>12.60</td>\n",
       "      <td>59</td>\n",
       "      <td>1380.0</td>\n",
       "      <td>70</td>\n",
       "    </tr>\n",
       "    <tr>\n",
       "      <th>3</th>\n",
       "      <td>9</td>\n",
       "      <td>5.85</td>\n",
       "      <td>1</td>\n",
       "      <td>0.00</td>\n",
       "      <td>59</td>\n",
       "      <td>180.0</td>\n",
       "      <td>70</td>\n",
       "    </tr>\n",
       "    <tr>\n",
       "      <th>4</th>\n",
       "      <td>13</td>\n",
       "      <td>16.65</td>\n",
       "      <td>7</td>\n",
       "      <td>0.00</td>\n",
       "      <td>56</td>\n",
       "      <td>1080.0</td>\n",
       "      <td>70</td>\n",
       "    </tr>\n",
       "    <tr>\n",
       "      <th>5</th>\n",
       "      <td>12</td>\n",
       "      <td>16.45</td>\n",
       "      <td>12</td>\n",
       "      <td>6.90</td>\n",
       "      <td>61</td>\n",
       "      <td>780.0</td>\n",
       "      <td>70</td>\n",
       "    </tr>\n",
       "    <tr>\n",
       "      <th>6</th>\n",
       "      <td>15</td>\n",
       "      <td>32.05</td>\n",
       "      <td>1</td>\n",
       "      <td>15.40</td>\n",
       "      <td>61</td>\n",
       "      <td>1200.0</td>\n",
       "      <td>70</td>\n",
       "    </tr>\n",
       "    <tr>\n",
       "      <th>7</th>\n",
       "      <td>29</td>\n",
       "      <td>38.45</td>\n",
       "      <td>10</td>\n",
       "      <td>14.60</td>\n",
       "      <td>61</td>\n",
       "      <td>2580.0</td>\n",
       "      <td>70</td>\n",
       "    </tr>\n",
       "    <tr>\n",
       "      <th>8</th>\n",
       "      <td>10</td>\n",
       "      <td>14.65</td>\n",
       "      <td>1</td>\n",
       "      <td>5.81</td>\n",
       "      <td>61</td>\n",
       "      <td>1080.0</td>\n",
       "      <td>70</td>\n",
       "    </tr>\n",
       "    <tr>\n",
       "      <th>9</th>\n",
       "      <td>32</td>\n",
       "      <td>3.25</td>\n",
       "      <td>17</td>\n",
       "      <td>0.00</td>\n",
       "      <td>59</td>\n",
       "      <td>0.0</td>\n",
       "      <td>70</td>\n",
       "    </tr>\n",
       "  </tbody>\n",
       "</table>\n",
       "</div>"
      ],
      "text/plain": [
       "   pickup_community_area   fare  trip_start_hour  trip_miles  company  \\\n",
       "0                     62  12.45               19        0.00       52   \n",
       "1                     62   0.00               19        0.00       51   \n",
       "2                     49  27.05                2       12.60       59   \n",
       "3                      9   5.85                1        0.00       59   \n",
       "4                     13  16.65                7        0.00       56   \n",
       "5                     12  16.45               12        6.90       61   \n",
       "6                     15  32.05                1       15.40       61   \n",
       "7                     29  38.45               10       14.60       61   \n",
       "8                     10  14.65                1        5.81       61   \n",
       "9                     32   3.25               17        0.00       59   \n",
       "\n",
       "   trip_seconds  dropoff_community_area  \n",
       "0           0.0                      70  \n",
       "1         300.0                      70  \n",
       "2        1380.0                      70  \n",
       "3         180.0                      70  \n",
       "4        1080.0                      70  \n",
       "5         780.0                      70  \n",
       "6        1200.0                      70  \n",
       "7        2580.0                      70  \n",
       "8        1080.0                      70  \n",
       "9           0.0                      70  "
      ]
     },
     "execution_count": 40,
     "metadata": {},
     "output_type": "execute_result"
    }
   ],
   "source": [
    "df.head(10)"
   ]
  },
  {
   "cell_type": "code",
   "execution_count": 41,
   "id": "f83c40a1",
   "metadata": {
    "colab": {
     "base_uri": "https://localhost:8080/",
     "height": 443
    },
    "id": "f83c40a1",
    "outputId": "ec74629d-213b-4a61-b67c-b3883d1e334d"
   },
   "outputs": [
    {
     "data": {
      "text/html": [
       "<div>\n",
       "<style scoped>\n",
       "    .dataframe tbody tr th:only-of-type {\n",
       "        vertical-align: middle;\n",
       "    }\n",
       "\n",
       "    .dataframe tbody tr th {\n",
       "        vertical-align: top;\n",
       "    }\n",
       "\n",
       "    .dataframe thead th {\n",
       "        text-align: right;\n",
       "    }\n",
       "</style>\n",
       "<table border=\"1\" class=\"dataframe\">\n",
       "  <thead>\n",
       "    <tr style=\"text-align: right;\">\n",
       "      <th></th>\n",
       "      <th>pickup_community_area</th>\n",
       "      <th>trip_start_hour</th>\n",
       "      <th>trip_miles</th>\n",
       "      <th>company</th>\n",
       "      <th>trip_seconds</th>\n",
       "      <th>dropoff_community_area</th>\n",
       "    </tr>\n",
       "  </thead>\n",
       "  <tbody>\n",
       "    <tr>\n",
       "      <th>0</th>\n",
       "      <td>2.587641</td>\n",
       "      <td>0.810604</td>\n",
       "      <td>-0.188106</td>\n",
       "      <td>-1.397886</td>\n",
       "      <td>-0.795522</td>\n",
       "      <td>2.622408</td>\n",
       "    </tr>\n",
       "    <tr>\n",
       "      <th>1</th>\n",
       "      <td>2.587641</td>\n",
       "      <td>0.810604</td>\n",
       "      <td>-0.188106</td>\n",
       "      <td>-1.627194</td>\n",
       "      <td>-0.488618</td>\n",
       "      <td>2.622408</td>\n",
       "    </tr>\n",
       "    <tr>\n",
       "      <th>2</th>\n",
       "      <td>1.787141</td>\n",
       "      <td>-1.757038</td>\n",
       "      <td>0.636585</td>\n",
       "      <td>0.207274</td>\n",
       "      <td>0.616234</td>\n",
       "      <td>2.622408</td>\n",
       "    </tr>\n",
       "    <tr>\n",
       "      <th>3</th>\n",
       "      <td>-0.675938</td>\n",
       "      <td>-1.908076</td>\n",
       "      <td>-0.188106</td>\n",
       "      <td>0.207274</td>\n",
       "      <td>-0.611380</td>\n",
       "      <td>2.622408</td>\n",
       "    </tr>\n",
       "    <tr>\n",
       "      <th>4</th>\n",
       "      <td>-0.429630</td>\n",
       "      <td>-1.001849</td>\n",
       "      <td>-0.188106</td>\n",
       "      <td>-0.480652</td>\n",
       "      <td>0.309331</td>\n",
       "      <td>2.622408</td>\n",
       "    </tr>\n",
       "    <tr>\n",
       "      <th>...</th>\n",
       "      <td>...</td>\n",
       "      <td>...</td>\n",
       "      <td>...</td>\n",
       "      <td>...</td>\n",
       "      <td>...</td>\n",
       "      <td>...</td>\n",
       "    </tr>\n",
       "    <tr>\n",
       "      <th>14991</th>\n",
       "      <td>-0.799092</td>\n",
       "      <td>-0.397698</td>\n",
       "      <td>-0.188106</td>\n",
       "      <td>0.207274</td>\n",
       "      <td>-0.734141</td>\n",
       "      <td>-0.773091</td>\n",
       "    </tr>\n",
       "    <tr>\n",
       "      <th>14992</th>\n",
       "      <td>-0.799092</td>\n",
       "      <td>0.357491</td>\n",
       "      <td>-0.188106</td>\n",
       "      <td>0.207274</td>\n",
       "      <td>-0.795522</td>\n",
       "      <td>-0.773091</td>\n",
       "    </tr>\n",
       "    <tr>\n",
       "      <th>14993</th>\n",
       "      <td>-0.799092</td>\n",
       "      <td>-0.095622</td>\n",
       "      <td>-0.168471</td>\n",
       "      <td>0.665891</td>\n",
       "      <td>-0.611380</td>\n",
       "      <td>-0.773091</td>\n",
       "    </tr>\n",
       "    <tr>\n",
       "      <th>14994</th>\n",
       "      <td>1.848718</td>\n",
       "      <td>0.206453</td>\n",
       "      <td>0.008249</td>\n",
       "      <td>0.207274</td>\n",
       "      <td>0.002427</td>\n",
       "      <td>1.636618</td>\n",
       "    </tr>\n",
       "    <tr>\n",
       "      <th>14995</th>\n",
       "      <td>-0.799092</td>\n",
       "      <td>-0.397698</td>\n",
       "      <td>-0.188106</td>\n",
       "      <td>0.207274</td>\n",
       "      <td>-0.795522</td>\n",
       "      <td>2.622408</td>\n",
       "    </tr>\n",
       "  </tbody>\n",
       "</table>\n",
       "<p>14996 rows × 6 columns</p>\n",
       "</div>"
      ],
      "text/plain": [
       "       pickup_community_area  trip_start_hour  trip_miles   company  \\\n",
       "0                   2.587641         0.810604   -0.188106 -1.397886   \n",
       "1                   2.587641         0.810604   -0.188106 -1.627194   \n",
       "2                   1.787141        -1.757038    0.636585  0.207274   \n",
       "3                  -0.675938        -1.908076   -0.188106  0.207274   \n",
       "4                  -0.429630        -1.001849   -0.188106 -0.480652   \n",
       "...                      ...              ...         ...       ...   \n",
       "14991              -0.799092        -0.397698   -0.188106  0.207274   \n",
       "14992              -0.799092         0.357491   -0.188106  0.207274   \n",
       "14993              -0.799092        -0.095622   -0.168471  0.665891   \n",
       "14994               1.848718         0.206453    0.008249  0.207274   \n",
       "14995              -0.799092        -0.397698   -0.188106  0.207274   \n",
       "\n",
       "       trip_seconds  dropoff_community_area  \n",
       "0         -0.795522                2.622408  \n",
       "1         -0.488618                2.622408  \n",
       "2          0.616234                2.622408  \n",
       "3         -0.611380                2.622408  \n",
       "4          0.309331                2.622408  \n",
       "...             ...                     ...  \n",
       "14991     -0.734141               -0.773091  \n",
       "14992     -0.795522               -0.773091  \n",
       "14993     -0.611380               -0.773091  \n",
       "14994      0.002427                1.636618  \n",
       "14995     -0.795522                2.622408  \n",
       "\n",
       "[14996 rows x 6 columns]"
      ]
     },
     "execution_count": 41,
     "metadata": {},
     "output_type": "execute_result"
    }
   ],
   "source": [
    "from sklearn.preprocessing import StandardScaler\n",
    "\n",
    "col =['pickup_community_area','trip_start_hour','trip_miles','company','trip_seconds','dropoff_community_area']\n",
    "scaler = StandardScaler()\n",
    "\n",
    "df_scaled = pd.DataFrame(scaler.fit_transform(df[col]),columns = col)\n",
    "\n",
    "y=df['fare']\n",
    "df_scaled"
   ]
  },
  {
   "cell_type": "code",
   "execution_count": 42,
   "id": "4da2435a",
   "metadata": {
    "id": "4da2435a"
   },
   "outputs": [],
   "source": [
    "from sklearn.model_selection import train_test_split\n",
    "X_train,X_test,y_train,y_test = train_test_split(df_scaled,y,test_size=0.4)\n"
   ]
  },
  {
   "cell_type": "code",
   "execution_count": 43,
   "id": "1160ddd4",
   "metadata": {
    "colab": {
     "base_uri": "https://localhost:8080/"
    },
    "id": "1160ddd4",
    "outputId": "d3f2435d-3b60-4c56-8a51-c3b54780ee6b"
   },
   "outputs": [
    {
     "name": "stdout",
     "output_type": "stream",
     "text": [
      "LinearRegression\n",
      "Mean Squared Error: 170.51944894897036\n",
      "R2_Score -0.6830607560632331\n",
      "--------------------------------------------------\n",
      "Ridge\n",
      "Mean Squared Error: 170.36175761108166\n",
      "R2_Score -0.6815043113057146\n",
      "--------------------------------------------------\n",
      "Lasso\n",
      "Mean Squared Error: 79.59720900210657\n",
      "R2_Score 0.2143597719243182\n",
      "--------------------------------------------------\n",
      "DecisionTreeRegressor\n",
      "Mean Squared Error: 14.250355633462057\n",
      "R2_Score 0.8593461656458782\n",
      "--------------------------------------------------\n",
      "RandomForestRegressor\n",
      "Mean Squared Error: 9.726194402414515\n",
      "R2_Score 0.9040005336315357\n",
      "--------------------------------------------------\n",
      "GradientBoostingRegressor\n",
      "Mean Squared Error: 10.184840318596889\n",
      "R2_Score 0.8994736075406224\n",
      "--------------------------------------------------\n",
      "AdaBoostRegressor\n",
      "Mean Squared Error: 35.67692938468862\n",
      "R2_Score 0.6478616362279115\n",
      "--------------------------------------------------\n",
      "XGBRegressor\n",
      "Mean Squared Error: 11.08535708492335\n",
      "R2_Score 0.8905853285852138\n",
      "--------------------------------------------------\n"
     ]
    }
   ],
   "source": [
    "from sklearn.linear_model import LinearRegression, Ridge, Lasso\n",
    "from sklearn.tree import DecisionTreeRegressor\n",
    "from sklearn.ensemble import RandomForestRegressor, GradientBoostingRegressor, AdaBoostRegressor\n",
    "from xgboost import XGBRegressor\n",
    "from sklearn.metrics import mean_squared_error,r2_score\n",
    "# Initialize models in a list\n",
    "models = [\n",
    "    LinearRegression(),\n",
    "    Ridge(alpha=1.0),\n",
    "    Lasso(alpha=1.0),\n",
    "    DecisionTreeRegressor(),\n",
    "    RandomForestRegressor(),\n",
    "    GradientBoostingRegressor(learning_rate=0.1),\n",
    "    AdaBoostRegressor(),\n",
    "    XGBRegressor()\n",
    "]\n",
    "\n",
    "# Loop through models and fit them to the training data\n",
    "for model in models:\n",
    "    # Fit the model to the training data\n",
    "    model.fit(X_train, y_train)\n",
    "\n",
    "    # Make predictions on the test data\n",
    "    y_pred = model.predict(X_test)\n",
    "    mse = mean_squared_error(y_test, y_pred)\n",
    "    print(model.__class__.__name__)\n",
    "    print(\"Mean Squared Error:\", mse)\n",
    "    r = r2_score(y_test, y_pred)\n",
    "    print(\"R2_Score\",r)\n",
    "    print(\"-\"*50)"
   ]
  },
  {
   "cell_type": "code",
   "execution_count": 44,
   "id": "759147e6",
   "metadata": {
    "id": "759147e6"
   },
   "outputs": [],
   "source": [
    "from sklearn.model_selection import GridSearchCV\n",
    "import joblib\n",
    "def hyperparameter_tuning(param_grid, model,model_name,X_train,y_train, X_test, y_test):\n",
    "    # Perform grid search with cross-validation\n",
    "    grid_search = GridSearchCV(estimator=model, param_grid=param_grid, cv=5, scoring='neg_mean_squared_error')\n",
    "    grid_search.fit(X_train, y_train)\n",
    "\n",
    "    # Get the best hyperparameters\n",
    "    best_params = grid_search.best_params_\n",
    "    print(f\"Best Hyperparameters for {model_name}:\", best_params)\n",
    "\n",
    "    # Get the best model\n",
    "    print(f\"Best model estimator in the {model_name}\")\n",
    "\n",
    "    best_model = grid_search.best_estimator_\n",
    "\n",
    "    # Evaluate the best model on the test data\n",
    "    test_predictions = best_model.predict(X_test)\n",
    "\n",
    "    mse = mean_squared_error(y_test, test_predictions)\n",
    "    print(\"Mean Squared Error:\", mse)\n",
    "    r = r2_score(y_test,test_predictions)\n",
    "    print(\"R2_Score\",r)\n",
    "    model_file=model_name+\".pkl\"\n",
    "    best_model.fit(X_train,y_train)\n",
    "    joblib.dump(best_model, model_file)"
   ]
  },
  {
   "cell_type": "code",
   "execution_count": 45,
   "id": "e9dd6a3b",
   "metadata": {
    "colab": {
     "base_uri": "https://localhost:8080/"
    },
    "id": "e9dd6a3b",
    "outputId": "b5e2c299-b9b0-42a0-811b-0d5dc7a76e15"
   },
   "outputs": [
    {
     "name": "stdout",
     "output_type": "stream",
     "text": [
      "Best Hyperparameters for Random Forest: {'max_depth': 11, 'min_samples_split': 5, 'n_estimators': 50}\n",
      "Best model estimator in the Random Forest\n",
      "Mean Squared Error: 9.315551801917545\n",
      "R2_Score 0.9080536574829446\n"
     ]
    }
   ],
   "source": [
    "param_grid_rfr = {\n",
    "    'n_estimators': [50, 100, 200],\n",
    "    'max_depth': [3,7,11,15],\n",
    "    'min_samples_split': [3,5,7]\n",
    "}\n",
    "\n",
    "# Initialize the RandomForestRegressor model\n",
    "model_rfr = RandomForestRegressor()\n",
    "hyperparameter_tuning(param_grid_rfr,model_rfr,\"Random Forest\",X_train,y_train,X_test, y_test)"
   ]
  },
  {
   "cell_type": "code",
   "execution_count": 46,
   "id": "6f8c4ca9",
   "metadata": {
    "colab": {
     "base_uri": "https://localhost:8080/"
    },
    "id": "6f8c4ca9",
    "outputId": "e9c981a5-5f74-4fd8-b84e-63a1df128991"
   },
   "outputs": [
    {
     "name": "stdout",
     "output_type": "stream",
     "text": [
      "Best Hyperparameters for GradientBoosting: {'learning_rate': 0.1, 'max_depth': 7, 'min_samples_split': 7, 'n_estimators': 100}\n",
      "Best model estimator in the GradientBoosting\n",
      "Mean Squared Error: 9.316943403026523\n",
      "R2_Score 0.9080399221042001\n"
     ]
    }
   ],
   "source": [
    "#GradientBoostingRegressor\n",
    "param_grid_gbr = {\n",
    "    'n_estimators': [50, 100, 150],\n",
    "    'max_depth': [3,7,11,15],\n",
    "    'learning_rate': [0.05,0.01, 0.1],\n",
    "    'min_samples_split': [2,3,5,7]\n",
    "}\n",
    "\n",
    "model_gbr = GradientBoostingRegressor()\n",
    "hyperparameter_tuning(param_grid_gbr,model_gbr,\"GradientBoosting\",X_train,y_train,X_test, y_test)"
   ]
  },
  {
   "cell_type": "code",
   "execution_count": 47,
   "id": "b3604873",
   "metadata": {
    "colab": {
     "base_uri": "https://localhost:8080/"
    },
    "id": "b3604873",
    "outputId": "7ef21596-3703-475f-e90b-ed06295835ef"
   },
   "outputs": [
    {
     "name": "stdout",
     "output_type": "stream",
     "text": [
      "Best Hyperparameters for Xgboost: {'learning_rate': 0.05, 'max_depth': 7, 'n_estimators': 100}\n",
      "Best model estimator in the Xgboost\n",
      "Mean Squared Error: 8.258563007935724\n",
      "R2_Score 0.918486346362216\n"
     ]
    }
   ],
   "source": [
    "#XGBRegressor\n",
    "# Define the hyperparameter grid for XGBRegressor\n",
    "param_grid_xgb = {\n",
    "    'n_estimators': [50, 100, 150],\n",
    "    'learning_rate': [0.05,0.01, 0.1],\n",
    "    'max_depth': [3,7,11]\n",
    "}\n",
    "# Initialize the XGBRegressor model\n",
    "model_xgb = XGBRegressor()\n",
    "\n",
    "hyperparameter_tuning(param_grid_xgb,model_xgb,\"Xgboost\",X_train,y_train,X_test, y_test)"
   ]
  },
  {
   "cell_type": "code",
   "execution_count": 48,
   "id": "9d09504a",
   "metadata": {
    "colab": {
     "base_uri": "https://localhost:8080/"
    },
    "id": "9d09504a",
    "outputId": "9918efa0-8fb3-403d-fbb9-411644c1a2a3"
   },
   "outputs": [
    {
     "name": "stdout",
     "output_type": "stream",
     "text": [
      "Best Hyperparameters for Xgboost: {'learning_rate': 0.1, 'max_depth': 3, 'n_estimators': 100}\n",
      "Best model estimator in the Xgboost\n",
      "Mean Squared Error: 9.309595919037497\n",
      "R2_Score 0.907855991667485\n"
     ]
    }
   ],
   "source": [
    "# Run XGB Regressor without company column and without scaling.\n",
    "# Define the hyperparameter grid for XGBRegressor\n",
    "col_company = col =['pickup_community_area','trip_start_hour','trip_miles','trip_seconds','dropoff_community_area']\n",
    "\n",
    "y=dataframe['fare']\n",
    "X_train,X_test,y_train,y_test = train_test_split(dataframe[col_company],y,test_size=0.4)\n",
    "#Drop NA rows\n",
    "dataframe = dataframe.dropna()\n",
    "param_grid_xgb = {\n",
    "    'n_estimators': [50, 100, 200],\n",
    "    'learning_rate': [0.05,0.01, 0.1],\n",
    "    'max_depth': [3,7,11,15]\n",
    "}\n",
    "# Initialize the XGBRegressor model\n",
    "model_xgb = XGBRegressor()\n",
    "\n",
    "hyperparameter_tuning(param_grid_xgb,model_xgb,\"Xgboost\",X_train,y_train,X_test, y_test)"
   ]
  },
  {
   "cell_type": "code",
   "execution_count": null,
   "id": "3ee09a02-a2ee-476b-abe3-1fb995610622",
   "metadata": {},
   "outputs": [],
   "source": []
  },
  {
   "cell_type": "code",
   "execution_count": null,
   "id": "5f9c765b-ed71-4f13-9090-224bb3b5b2fd",
   "metadata": {},
   "outputs": [],
   "source": []
  }
 ],
 "metadata": {
  "colab": {
   "provenance": []
  },
  "kernelspec": {
   "display_name": "Python 3 (ipykernel)",
   "language": "python",
   "name": "python3"
  },
  "language_info": {
   "codemirror_mode": {
    "name": "ipython",
    "version": 3
   },
   "file_extension": ".py",
   "mimetype": "text/x-python",
   "name": "python",
   "nbconvert_exporter": "python",
   "pygments_lexer": "ipython3",
   "version": "3.11.7"
  }
 },
 "nbformat": 4,
 "nbformat_minor": 5
}
